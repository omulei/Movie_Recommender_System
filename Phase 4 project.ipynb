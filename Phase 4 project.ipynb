{
 "cells": [
  {
   "cell_type": "markdown",
   "metadata": {},
   "source": [
    "### Phase 4 Project: Movie Recommendation System\n",
    "\n",
    "#### Project Team\n",
    "\n",
    "- Rose Kyalo\n",
    "- Angel Linah Atungire\n",
    "- Oscar Mulei\n",
    "\n",
    "#### Overview\n",
    "\n",
    "This project focuses on developing a sophisticated Movie Recommendation System. Our goal is to enhance the movie-watching experience by suggesting the top five films to users based on their unique rating history. By employing advanced collaborative filtering techniques, this system will delve into the complexities of user preferences, ensuring that each recommendation is tailored to the individual's cinematic tastes.\n",
    "\n",
    "#### Objective\n",
    "\n",
    "The primary objective of this system is to analyze and understand user behavior and preferences through their movie rating history. Using this information, the system will:\n",
    "\n",
    "1. Identify patterns in user ratings.\n",
    "2. Compare and contrast these patterns with those of other users.\n",
    "3. Generate personalized movie recommendations that resonate with each user's specific interests.\n",
    "\n",
    "#### Data Source\n",
    "\n",
    "The data for this project will be sourced from the GroupLens Research Project, specifically the MovieLens dataset, available at [GroupLens](https://grouplens.org/datasets/movielens/latest/). This comprehensive dataset includes:\n",
    "\n",
    "- User ratings: A collection of movie ratings provided by users, which is the cornerstone of our collaborative filtering model.\n",
    "- Movie details: Information on various movies, including genres, release dates, and more, which aids in understanding the context of user preferences.\n",
    "- Links: References to other databases, which could be useful for enriching our dataset with additional movie information.\n",
    "- Tags: User-generated tags for movies, offering insights into the nuanced preferences of users.\n",
    "\n",
    "#### Methodology\n",
    "\n",
    "The development of the Movie Recommendation System will follow these steps:\n",
    "\n",
    "1. **Data Collection and Preprocessing**: Gathering the MovieLens data and preparing it for analysis. This step includes cleaning the data, handling missing values, and structuring it in a way that's conducive to our analysis.\n",
    "2. **Exploratory Data Analysis (EDA)**: Conducting an initial exploration of the data to uncover patterns, anomalies, or trends that could influence our recommendation model.\n",
    "3. **Model Development**: Implementing collaborative filtering algorithms, such as user-based or item-based filtering, to develop the recommendation model.\n",
    "4. **Model Evaluation and Tuning**: Assessing the model's performance using appropriate metrics and making adjustments to improve accuracy and relevance of the recommendations.\n",
    "5. **User Interface (Optional)**: Creating a simple user interface where users can input their ratings and receive movie recommendations. This would enhance the usability of our system.\n",
    "\n",
    "#### Expected Outcomes\n",
    "\n",
    "The expected outcome is a robust, user-friendly Movie Recommendation System that:\n",
    "\n",
    "- Accurately predicts user preferences.\n",
    "- Enhances user engagement by providing relevant movie suggestions.\n",
    "- Is scalable and adaptable to an expanding user base and evolving movie datasets.\n",
    "\n",
    "#### Future Scope\n",
    "\n",
    "This project can be extended to include:\n",
    "\n",
    "- Integration with real-time data for current movie trends.\n",
    "- Incorporation of additional user information for more nuanced recommendations.\n",
    "- Deployment of the model in a web or mobile application for wider accessibility.\n"
   ]
  },
  {
   "cell_type": "markdown",
   "metadata": {},
   "source": [
    "---\n",
    "### Data Collection and Preprocessing"
   ]
  },
  {
   "cell_type": "code",
   "execution_count": 1,
   "metadata": {},
   "outputs": [],
   "source": [
    "# import necessary packages \n",
    "import pandas as pd\n",
    "import numpy as np\n",
    "import matplotlib.pyplot as plt\n",
    "import seaborn as sns\n",
    "import scipy.stats as stats\n",
    "import sklearn\n",
    "from surprise import Reader, Dataset, SVD, accuracy\n",
    "from surprise.model_selection import cross_validate\n",
    "from surprise.model_selection import train_test_split, GridSearchCV"
   ]
  },
  {
   "cell_type": "code",
   "execution_count": 2,
   "metadata": {
    "scrolled": true
   },
   "outputs": [
    {
     "data": {
      "text/plain": [
       "(   movieId  imdbId   tmdbId\n",
       " 0        1  114709    862.0\n",
       " 1        2  113497   8844.0\n",
       " 2        3  113228  15602.0\n",
       " 3        4  114885  31357.0\n",
       " 4        5  113041  11862.0,\n",
       "    userId  movieId              tag   timestamp\n",
       " 0       2    60756            funny  1445714994\n",
       " 1       2    60756  Highly quotable  1445714996\n",
       " 2       2    60756     will ferrell  1445714992\n",
       " 3       2    89774     Boxing story  1445715207\n",
       " 4       2    89774              MMA  1445715200,\n",
       "    userId  movieId  rating  timestamp\n",
       " 0       1        1     4.0  964982703\n",
       " 1       1        3     4.0  964981247\n",
       " 2       1        6     4.0  964982224\n",
       " 3       1       47     5.0  964983815\n",
       " 4       1       50     5.0  964982931,\n",
       "    movieId                               title  \\\n",
       " 0        1                    Toy Story (1995)   \n",
       " 1        2                      Jumanji (1995)   \n",
       " 2        3             Grumpier Old Men (1995)   \n",
       " 3        4            Waiting to Exhale (1995)   \n",
       " 4        5  Father of the Bride Part II (1995)   \n",
       " \n",
       "                                         genres  \n",
       " 0  Adventure|Animation|Children|Comedy|Fantasy  \n",
       " 1                   Adventure|Children|Fantasy  \n",
       " 2                               Comedy|Romance  \n",
       " 3                         Comedy|Drama|Romance  \n",
       " 4                                       Comedy  )"
      ]
     },
     "execution_count": 2,
     "metadata": {},
     "output_type": "execute_result"
    }
   ],
   "source": [
    "# load the dataset\n",
    "links = pd.read_csv(\"Data/links.csv\")\n",
    "tags = pd.read_csv(\"Data/tags.csv\")\n",
    "ratings = pd.read_csv(\"Data/ratings.csv\")\n",
    "movies = pd.read_csv(\"Data/movies.csv\")\n",
    "\n",
    "# Display the first few rows of each dataframe to understand their structure\n",
    "(links.head(), tags.head(), ratings.head(), movies.head())"
   ]
  },
  {
   "cell_type": "code",
   "execution_count": 3,
   "metadata": {
    "scrolled": true
   },
   "outputs": [
    {
     "name": "stdout",
     "output_type": "stream",
     "text": [
      "Movies DataFrame Info:\n",
      "<class 'pandas.core.frame.DataFrame'>\n",
      "RangeIndex: 9742 entries, 0 to 9741\n",
      "Data columns (total 3 columns):\n",
      " #   Column   Non-Null Count  Dtype \n",
      "---  ------   --------------  ----- \n",
      " 0   movieId  9742 non-null   int64 \n",
      " 1   title    9742 non-null   object\n",
      " 2   genres   9742 non-null   object\n",
      "dtypes: int64(1), object(2)\n",
      "memory usage: 228.5+ KB\n",
      "\n",
      "Ratings DataFrame Info:\n",
      "<class 'pandas.core.frame.DataFrame'>\n",
      "RangeIndex: 100836 entries, 0 to 100835\n",
      "Data columns (total 4 columns):\n",
      " #   Column     Non-Null Count   Dtype  \n",
      "---  ------     --------------   -----  \n",
      " 0   userId     100836 non-null  int64  \n",
      " 1   movieId    100836 non-null  int64  \n",
      " 2   rating     100836 non-null  float64\n",
      " 3   timestamp  100836 non-null  int64  \n",
      "dtypes: float64(1), int64(3)\n",
      "memory usage: 3.1 MB\n",
      "\n",
      "Links DataFrame Info:\n",
      "<class 'pandas.core.frame.DataFrame'>\n",
      "RangeIndex: 9742 entries, 0 to 9741\n",
      "Data columns (total 3 columns):\n",
      " #   Column   Non-Null Count  Dtype  \n",
      "---  ------   --------------  -----  \n",
      " 0   movieId  9742 non-null   int64  \n",
      " 1   imdbId   9742 non-null   int64  \n",
      " 2   tmdbId   9734 non-null   float64\n",
      "dtypes: float64(1), int64(2)\n",
      "memory usage: 228.5 KB\n",
      "\n",
      "Tags DataFrame Info:\n",
      "<class 'pandas.core.frame.DataFrame'>\n",
      "RangeIndex: 3683 entries, 0 to 3682\n",
      "Data columns (total 4 columns):\n",
      " #   Column     Non-Null Count  Dtype \n",
      "---  ------     --------------  ----- \n",
      " 0   userId     3683 non-null   int64 \n",
      " 1   movieId    3683 non-null   int64 \n",
      " 2   tag        3683 non-null   object\n",
      " 3   timestamp  3683 non-null   int64 \n",
      "dtypes: int64(3), object(1)\n",
      "memory usage: 115.2+ KB\n"
     ]
    }
   ],
   "source": [
    "# verify and correct data types, if necessary. \n",
    "print(\"Movies DataFrame Info:\")\n",
    "movies.info()\n",
    "\n",
    "print(\"\\nRatings DataFrame Info:\")\n",
    "ratings.info()\n",
    "\n",
    "print(\"\\nLinks DataFrame Info:\")\n",
    "links.info()\n",
    "\n",
    "print(\"\\nTags DataFrame Info:\")\n",
    "tags.info()\n"
   ]
  },
  {
   "cell_type": "code",
   "execution_count": 4,
   "metadata": {
    "scrolled": false
   },
   "outputs": [
    {
     "data": {
      "text/plain": [
       "{'ratings.csv': userId                int64\n",
       " movieId               int64\n",
       " rating              float64\n",
       " timestamp    datetime64[ns]\n",
       " dtype: object,\n",
       " 'tags.csv': userId                int64\n",
       " movieId               int64\n",
       " tag                  object\n",
       " timestamp    datetime64[ns]\n",
       " dtype: object}"
      ]
     },
     "execution_count": 4,
     "metadata": {},
     "output_type": "execute_result"
    }
   ],
   "source": [
    "# The data types seem appropriate for most columns. \n",
    "# However, we might want to convert the timestamp columns in ratings.csv and tags.csv to a more readable date-time format. \n",
    "# This conversion will make the data more interpretable for analysis.\n",
    "\n",
    "# Convert timestamp to datetime in ratings.csv and tags.csv\n",
    "ratings['timestamp'] = pd.to_datetime(ratings['timestamp'], unit='s')\n",
    "tags['timestamp'] = pd.to_datetime(tags['timestamp'], unit='s')\n",
    "\n",
    "# Display the updated data types for these two datasets\n",
    "updated_data_types = {\n",
    "    \"ratings.csv\": ratings.dtypes,\n",
    "    \"tags.csv\": tags.dtypes\n",
    "}\n",
    "\n",
    "updated_data_types"
   ]
  },
  {
   "cell_type": "code",
   "execution_count": 5,
   "metadata": {
    "scrolled": true
   },
   "outputs": [
    {
     "name": "stdout",
     "output_type": "stream",
     "text": [
      "Missing Values in Movies DataFrame:\n",
      "movieId    0\n",
      "title      0\n",
      "genres     0\n",
      "dtype: int64\n",
      "\n",
      "Missing Values in Ratings DataFrame:\n",
      "userId       0\n",
      "movieId      0\n",
      "rating       0\n",
      "timestamp    0\n",
      "dtype: int64\n",
      "\n",
      "Missing Values in Links DataFrame:\n",
      "movieId    0\n",
      "imdbId     0\n",
      "tmdbId     8\n",
      "dtype: int64\n",
      "\n",
      "Missing Values in Tags DataFrame:\n",
      "userId       0\n",
      "movieId      0\n",
      "tag          0\n",
      "timestamp    0\n",
      "dtype: int64\n"
     ]
    }
   ],
   "source": [
    "# Checking for missing values in the DataFrames\n",
    "print(\"Missing Values in Movies DataFrame:\")\n",
    "print(movies.isnull().sum())\n",
    "\n",
    "print(\"\\nMissing Values in Ratings DataFrame:\")\n",
    "print(ratings.isnull().sum())\n",
    "\n",
    "print(\"\\nMissing Values in Links DataFrame:\")\n",
    "print(links.isnull().sum())\n",
    "\n",
    "print(\"\\nMissing Values in Tags DataFrame:\")\n",
    "print(tags.isnull().sum())"
   ]
  },
  {
   "cell_type": "code",
   "execution_count": 6,
   "metadata": {},
   "outputs": [],
   "source": [
    "# handling the missing values in links data\n",
    "# decided to delete the rows with the missing data, since it is only 0.082% of the data.\n",
    "links.dropna(inplace=True)"
   ]
  },
  {
   "cell_type": "code",
   "execution_count": 7,
   "metadata": {},
   "outputs": [
    {
     "data": {
      "text/plain": [
       "{'movies.csv': 0, 'ratings.csv': 0, 'tags.csv': 0, 'links.csv': 0}"
      ]
     },
     "execution_count": 7,
     "metadata": {},
     "output_type": "execute_result"
    }
   ],
   "source": [
    "# Check for duplicates in each dataset\n",
    "duplicates = {\n",
    "    \"movies.csv\": movies.duplicated().sum(),\n",
    "    \"ratings.csv\": ratings.duplicated().sum(),\n",
    "    \"tags.csv\": tags.duplicated().sum(),\n",
    "    \"links.csv\": links.duplicated().sum()\n",
    "}\n",
    "\n",
    "duplicates"
   ]
  },
  {
   "cell_type": "code",
   "execution_count": 8,
   "metadata": {
    "scrolled": true
   },
   "outputs": [
    {
     "data": {
      "text/html": [
       "<div>\n",
       "<style scoped>\n",
       "    .dataframe tbody tr th:only-of-type {\n",
       "        vertical-align: middle;\n",
       "    }\n",
       "\n",
       "    .dataframe tbody tr th {\n",
       "        vertical-align: top;\n",
       "    }\n",
       "\n",
       "    .dataframe thead th {\n",
       "        text-align: right;\n",
       "    }\n",
       "</style>\n",
       "<table border=\"1\" class=\"dataframe\">\n",
       "  <thead>\n",
       "    <tr style=\"text-align: right;\">\n",
       "      <th></th>\n",
       "      <th>movieId</th>\n",
       "      <th>title</th>\n",
       "      <th>genres</th>\n",
       "    </tr>\n",
       "  </thead>\n",
       "  <tbody>\n",
       "    <tr>\n",
       "      <th>0</th>\n",
       "      <td>1</td>\n",
       "      <td>Toy Story (1995)</td>\n",
       "      <td>[Adventure, Animation, Children, Comedy, Fantasy]</td>\n",
       "    </tr>\n",
       "    <tr>\n",
       "      <th>1</th>\n",
       "      <td>2</td>\n",
       "      <td>Jumanji (1995)</td>\n",
       "      <td>[Adventure, Children, Fantasy]</td>\n",
       "    </tr>\n",
       "    <tr>\n",
       "      <th>2</th>\n",
       "      <td>3</td>\n",
       "      <td>Grumpier Old Men (1995)</td>\n",
       "      <td>[Comedy, Romance]</td>\n",
       "    </tr>\n",
       "    <tr>\n",
       "      <th>3</th>\n",
       "      <td>4</td>\n",
       "      <td>Waiting to Exhale (1995)</td>\n",
       "      <td>[Comedy, Drama, Romance]</td>\n",
       "    </tr>\n",
       "    <tr>\n",
       "      <th>4</th>\n",
       "      <td>5</td>\n",
       "      <td>Father of the Bride Part II (1995)</td>\n",
       "      <td>[Comedy]</td>\n",
       "    </tr>\n",
       "    <tr>\n",
       "      <th>...</th>\n",
       "      <td>...</td>\n",
       "      <td>...</td>\n",
       "      <td>...</td>\n",
       "    </tr>\n",
       "    <tr>\n",
       "      <th>9737</th>\n",
       "      <td>193581</td>\n",
       "      <td>Black Butler: Book of the Atlantic (2017)</td>\n",
       "      <td>[Action, Animation, Comedy, Fantasy]</td>\n",
       "    </tr>\n",
       "    <tr>\n",
       "      <th>9738</th>\n",
       "      <td>193583</td>\n",
       "      <td>No Game No Life: Zero (2017)</td>\n",
       "      <td>[Animation, Comedy, Fantasy]</td>\n",
       "    </tr>\n",
       "    <tr>\n",
       "      <th>9739</th>\n",
       "      <td>193585</td>\n",
       "      <td>Flint (2017)</td>\n",
       "      <td>[Drama]</td>\n",
       "    </tr>\n",
       "    <tr>\n",
       "      <th>9740</th>\n",
       "      <td>193587</td>\n",
       "      <td>Bungo Stray Dogs: Dead Apple (2018)</td>\n",
       "      <td>[Action, Animation]</td>\n",
       "    </tr>\n",
       "    <tr>\n",
       "      <th>9741</th>\n",
       "      <td>193609</td>\n",
       "      <td>Andrew Dice Clay: Dice Rules (1991)</td>\n",
       "      <td>[Comedy]</td>\n",
       "    </tr>\n",
       "  </tbody>\n",
       "</table>\n",
       "<p>9742 rows × 3 columns</p>\n",
       "</div>"
      ],
      "text/plain": [
       "      movieId                                      title  \\\n",
       "0           1                           Toy Story (1995)   \n",
       "1           2                             Jumanji (1995)   \n",
       "2           3                    Grumpier Old Men (1995)   \n",
       "3           4                   Waiting to Exhale (1995)   \n",
       "4           5         Father of the Bride Part II (1995)   \n",
       "...       ...                                        ...   \n",
       "9737   193581  Black Butler: Book of the Atlantic (2017)   \n",
       "9738   193583               No Game No Life: Zero (2017)   \n",
       "9739   193585                               Flint (2017)   \n",
       "9740   193587        Bungo Stray Dogs: Dead Apple (2018)   \n",
       "9741   193609        Andrew Dice Clay: Dice Rules (1991)   \n",
       "\n",
       "                                                 genres  \n",
       "0     [Adventure, Animation, Children, Comedy, Fantasy]  \n",
       "1                        [Adventure, Children, Fantasy]  \n",
       "2                                     [Comedy, Romance]  \n",
       "3                              [Comedy, Drama, Romance]  \n",
       "4                                              [Comedy]  \n",
       "...                                                 ...  \n",
       "9737               [Action, Animation, Comedy, Fantasy]  \n",
       "9738                       [Animation, Comedy, Fantasy]  \n",
       "9739                                            [Drama]  \n",
       "9740                                [Action, Animation]  \n",
       "9741                                           [Comedy]  \n",
       "\n",
       "[9742 rows x 3 columns]"
      ]
     },
     "execution_count": 8,
     "metadata": {},
     "output_type": "execute_result"
    }
   ],
   "source": [
    "# For the movies data, we'll split the genres into a list for easier analysis later on\n",
    "movies['genres'] = movies['genres'].apply(lambda x: x.split('|'))\n",
    "movies"
   ]
  },
  {
   "cell_type": "markdown",
   "metadata": {},
   "source": [
    "#### Data Preprocessing Summary\n",
    "\n",
    "##### Ratings Data (`ratings`)\n",
    "- **Missing Values**: No missing values.\n",
    "- **Timestamp Conversion**: Timestamps have been converted to a readable date format.\n",
    "\n",
    "##### Movies Data (`movies`)\n",
    "- **Missing Values**: No missing values.\n",
    "- **Genre Processing**: The genres have been split into lists for easier analysis.\n",
    "\n",
    "##### Links Data (`links`)\n",
    "- **Missing Values**: There are some missing values in the `tmdbId` column.\n",
    "- **Note**: decided to delete the rows with the missing data, since it is only 0.082% of the data.\n",
    "\n",
    "##### Tags Data (`tags`)\n",
    "- **Missing Values**: No missing values.\n",
    "- **Timestamp Conversion**: Timestamps have been converted to a readable format."
   ]
  },
  {
   "cell_type": "markdown",
   "metadata": {},
   "source": [
    "---\n",
    "### Exploratory Data Analysis (EDA)\n",
    "\n",
    "In this phase, we'll explore the datasets to gain insights that can guide our model development. We'll look at the distribution of ratings, the number of movies and users, and conduct a genre analysis."
   ]
  },
  {
   "cell_type": "code",
   "execution_count": 9,
   "metadata": {},
   "outputs": [],
   "source": [
    "movies_and_ratings = pd.merge(ratings, movies, on ='movieId')"
   ]
  },
  {
   "cell_type": "code",
   "execution_count": 10,
   "metadata": {
    "scrolled": true
   },
   "outputs": [
    {
     "data": {
      "text/html": [
       "<div>\n",
       "<style scoped>\n",
       "    .dataframe tbody tr th:only-of-type {\n",
       "        vertical-align: middle;\n",
       "    }\n",
       "\n",
       "    .dataframe tbody tr th {\n",
       "        vertical-align: top;\n",
       "    }\n",
       "\n",
       "    .dataframe thead th {\n",
       "        text-align: right;\n",
       "    }\n",
       "</style>\n",
       "<table border=\"1\" class=\"dataframe\">\n",
       "  <thead>\n",
       "    <tr style=\"text-align: right;\">\n",
       "      <th></th>\n",
       "      <th>userId</th>\n",
       "      <th>movieId</th>\n",
       "      <th>rating</th>\n",
       "      <th>timestamp</th>\n",
       "      <th>title</th>\n",
       "      <th>genres</th>\n",
       "    </tr>\n",
       "  </thead>\n",
       "  <tbody>\n",
       "    <tr>\n",
       "      <th>0</th>\n",
       "      <td>1</td>\n",
       "      <td>1</td>\n",
       "      <td>4.0</td>\n",
       "      <td>2000-07-30 18:45:03</td>\n",
       "      <td>Toy Story (1995)</td>\n",
       "      <td>[Adventure, Animation, Children, Comedy, Fantasy]</td>\n",
       "    </tr>\n",
       "    <tr>\n",
       "      <th>1</th>\n",
       "      <td>5</td>\n",
       "      <td>1</td>\n",
       "      <td>4.0</td>\n",
       "      <td>1996-11-08 06:36:02</td>\n",
       "      <td>Toy Story (1995)</td>\n",
       "      <td>[Adventure, Animation, Children, Comedy, Fantasy]</td>\n",
       "    </tr>\n",
       "    <tr>\n",
       "      <th>2</th>\n",
       "      <td>7</td>\n",
       "      <td>1</td>\n",
       "      <td>4.5</td>\n",
       "      <td>2005-01-25 06:52:26</td>\n",
       "      <td>Toy Story (1995)</td>\n",
       "      <td>[Adventure, Animation, Children, Comedy, Fantasy]</td>\n",
       "    </tr>\n",
       "    <tr>\n",
       "      <th>3</th>\n",
       "      <td>15</td>\n",
       "      <td>1</td>\n",
       "      <td>2.5</td>\n",
       "      <td>2017-11-13 12:59:30</td>\n",
       "      <td>Toy Story (1995)</td>\n",
       "      <td>[Adventure, Animation, Children, Comedy, Fantasy]</td>\n",
       "    </tr>\n",
       "    <tr>\n",
       "      <th>4</th>\n",
       "      <td>17</td>\n",
       "      <td>1</td>\n",
       "      <td>4.5</td>\n",
       "      <td>2011-05-18 05:28:03</td>\n",
       "      <td>Toy Story (1995)</td>\n",
       "      <td>[Adventure, Animation, Children, Comedy, Fantasy]</td>\n",
       "    </tr>\n",
       "    <tr>\n",
       "      <th>5</th>\n",
       "      <td>18</td>\n",
       "      <td>1</td>\n",
       "      <td>3.5</td>\n",
       "      <td>2016-02-11 16:56:56</td>\n",
       "      <td>Toy Story (1995)</td>\n",
       "      <td>[Adventure, Animation, Children, Comedy, Fantasy]</td>\n",
       "    </tr>\n",
       "    <tr>\n",
       "      <th>6</th>\n",
       "      <td>19</td>\n",
       "      <td>1</td>\n",
       "      <td>4.0</td>\n",
       "      <td>2000-08-08 03:33:57</td>\n",
       "      <td>Toy Story (1995)</td>\n",
       "      <td>[Adventure, Animation, Children, Comedy, Fantasy]</td>\n",
       "    </tr>\n",
       "    <tr>\n",
       "      <th>7</th>\n",
       "      <td>21</td>\n",
       "      <td>1</td>\n",
       "      <td>3.5</td>\n",
       "      <td>2014-08-09 21:14:38</td>\n",
       "      <td>Toy Story (1995)</td>\n",
       "      <td>[Adventure, Animation, Children, Comedy, Fantasy]</td>\n",
       "    </tr>\n",
       "    <tr>\n",
       "      <th>8</th>\n",
       "      <td>27</td>\n",
       "      <td>1</td>\n",
       "      <td>3.0</td>\n",
       "      <td>2000-07-04 04:34:22</td>\n",
       "      <td>Toy Story (1995)</td>\n",
       "      <td>[Adventure, Animation, Children, Comedy, Fantasy]</td>\n",
       "    </tr>\n",
       "    <tr>\n",
       "      <th>9</th>\n",
       "      <td>31</td>\n",
       "      <td>1</td>\n",
       "      <td>5.0</td>\n",
       "      <td>1996-12-13 08:43:36</td>\n",
       "      <td>Toy Story (1995)</td>\n",
       "      <td>[Adventure, Animation, Children, Comedy, Fantasy]</td>\n",
       "    </tr>\n",
       "    <tr>\n",
       "      <th>10</th>\n",
       "      <td>32</td>\n",
       "      <td>1</td>\n",
       "      <td>3.0</td>\n",
       "      <td>1997-02-23 22:15:19</td>\n",
       "      <td>Toy Story (1995)</td>\n",
       "      <td>[Adventure, Animation, Children, Comedy, Fantasy]</td>\n",
       "    </tr>\n",
       "    <tr>\n",
       "      <th>11</th>\n",
       "      <td>33</td>\n",
       "      <td>1</td>\n",
       "      <td>3.0</td>\n",
       "      <td>1999-10-11 13:10:44</td>\n",
       "      <td>Toy Story (1995)</td>\n",
       "      <td>[Adventure, Animation, Children, Comedy, Fantasy]</td>\n",
       "    </tr>\n",
       "    <tr>\n",
       "      <th>12</th>\n",
       "      <td>40</td>\n",
       "      <td>1</td>\n",
       "      <td>5.0</td>\n",
       "      <td>1996-05-14 07:29:19</td>\n",
       "      <td>Toy Story (1995)</td>\n",
       "      <td>[Adventure, Animation, Children, Comedy, Fantasy]</td>\n",
       "    </tr>\n",
       "    <tr>\n",
       "      <th>13</th>\n",
       "      <td>43</td>\n",
       "      <td>1</td>\n",
       "      <td>5.0</td>\n",
       "      <td>1996-11-26 07:39:43</td>\n",
       "      <td>Toy Story (1995)</td>\n",
       "      <td>[Adventure, Animation, Children, Comedy, Fantasy]</td>\n",
       "    </tr>\n",
       "    <tr>\n",
       "      <th>14</th>\n",
       "      <td>44</td>\n",
       "      <td>1</td>\n",
       "      <td>3.0</td>\n",
       "      <td>1997-07-18 18:51:00</td>\n",
       "      <td>Toy Story (1995)</td>\n",
       "      <td>[Adventure, Animation, Children, Comedy, Fantasy]</td>\n",
       "    </tr>\n",
       "    <tr>\n",
       "      <th>15</th>\n",
       "      <td>45</td>\n",
       "      <td>1</td>\n",
       "      <td>4.0</td>\n",
       "      <td>2000-02-21 21:56:22</td>\n",
       "      <td>Toy Story (1995)</td>\n",
       "      <td>[Adventure, Animation, Children, Comedy, Fantasy]</td>\n",
       "    </tr>\n",
       "    <tr>\n",
       "      <th>16</th>\n",
       "      <td>46</td>\n",
       "      <td>1</td>\n",
       "      <td>5.0</td>\n",
       "      <td>1996-06-14 21:31:46</td>\n",
       "      <td>Toy Story (1995)</td>\n",
       "      <td>[Adventure, Animation, Children, Comedy, Fantasy]</td>\n",
       "    </tr>\n",
       "    <tr>\n",
       "      <th>17</th>\n",
       "      <td>50</td>\n",
       "      <td>1</td>\n",
       "      <td>3.0</td>\n",
       "      <td>2017-12-25 21:41:56</td>\n",
       "      <td>Toy Story (1995)</td>\n",
       "      <td>[Adventure, Animation, Children, Comedy, Fantasy]</td>\n",
       "    </tr>\n",
       "    <tr>\n",
       "      <th>18</th>\n",
       "      <td>54</td>\n",
       "      <td>1</td>\n",
       "      <td>3.0</td>\n",
       "      <td>1996-04-23 08:15:30</td>\n",
       "      <td>Toy Story (1995)</td>\n",
       "      <td>[Adventure, Animation, Children, Comedy, Fantasy]</td>\n",
       "    </tr>\n",
       "    <tr>\n",
       "      <th>19</th>\n",
       "      <td>57</td>\n",
       "      <td>1</td>\n",
       "      <td>5.0</td>\n",
       "      <td>2000-08-09 04:40:31</td>\n",
       "      <td>Toy Story (1995)</td>\n",
       "      <td>[Adventure, Animation, Children, Comedy, Fantasy]</td>\n",
       "    </tr>\n",
       "  </tbody>\n",
       "</table>\n",
       "</div>"
      ],
      "text/plain": [
       "    userId  movieId  rating           timestamp             title  \\\n",
       "0        1        1     4.0 2000-07-30 18:45:03  Toy Story (1995)   \n",
       "1        5        1     4.0 1996-11-08 06:36:02  Toy Story (1995)   \n",
       "2        7        1     4.5 2005-01-25 06:52:26  Toy Story (1995)   \n",
       "3       15        1     2.5 2017-11-13 12:59:30  Toy Story (1995)   \n",
       "4       17        1     4.5 2011-05-18 05:28:03  Toy Story (1995)   \n",
       "5       18        1     3.5 2016-02-11 16:56:56  Toy Story (1995)   \n",
       "6       19        1     4.0 2000-08-08 03:33:57  Toy Story (1995)   \n",
       "7       21        1     3.5 2014-08-09 21:14:38  Toy Story (1995)   \n",
       "8       27        1     3.0 2000-07-04 04:34:22  Toy Story (1995)   \n",
       "9       31        1     5.0 1996-12-13 08:43:36  Toy Story (1995)   \n",
       "10      32        1     3.0 1997-02-23 22:15:19  Toy Story (1995)   \n",
       "11      33        1     3.0 1999-10-11 13:10:44  Toy Story (1995)   \n",
       "12      40        1     5.0 1996-05-14 07:29:19  Toy Story (1995)   \n",
       "13      43        1     5.0 1996-11-26 07:39:43  Toy Story (1995)   \n",
       "14      44        1     3.0 1997-07-18 18:51:00  Toy Story (1995)   \n",
       "15      45        1     4.0 2000-02-21 21:56:22  Toy Story (1995)   \n",
       "16      46        1     5.0 1996-06-14 21:31:46  Toy Story (1995)   \n",
       "17      50        1     3.0 2017-12-25 21:41:56  Toy Story (1995)   \n",
       "18      54        1     3.0 1996-04-23 08:15:30  Toy Story (1995)   \n",
       "19      57        1     5.0 2000-08-09 04:40:31  Toy Story (1995)   \n",
       "\n",
       "                                               genres  \n",
       "0   [Adventure, Animation, Children, Comedy, Fantasy]  \n",
       "1   [Adventure, Animation, Children, Comedy, Fantasy]  \n",
       "2   [Adventure, Animation, Children, Comedy, Fantasy]  \n",
       "3   [Adventure, Animation, Children, Comedy, Fantasy]  \n",
       "4   [Adventure, Animation, Children, Comedy, Fantasy]  \n",
       "5   [Adventure, Animation, Children, Comedy, Fantasy]  \n",
       "6   [Adventure, Animation, Children, Comedy, Fantasy]  \n",
       "7   [Adventure, Animation, Children, Comedy, Fantasy]  \n",
       "8   [Adventure, Animation, Children, Comedy, Fantasy]  \n",
       "9   [Adventure, Animation, Children, Comedy, Fantasy]  \n",
       "10  [Adventure, Animation, Children, Comedy, Fantasy]  \n",
       "11  [Adventure, Animation, Children, Comedy, Fantasy]  \n",
       "12  [Adventure, Animation, Children, Comedy, Fantasy]  \n",
       "13  [Adventure, Animation, Children, Comedy, Fantasy]  \n",
       "14  [Adventure, Animation, Children, Comedy, Fantasy]  \n",
       "15  [Adventure, Animation, Children, Comedy, Fantasy]  \n",
       "16  [Adventure, Animation, Children, Comedy, Fantasy]  \n",
       "17  [Adventure, Animation, Children, Comedy, Fantasy]  \n",
       "18  [Adventure, Animation, Children, Comedy, Fantasy]  \n",
       "19  [Adventure, Animation, Children, Comedy, Fantasy]  "
      ]
     },
     "execution_count": 10,
     "metadata": {},
     "output_type": "execute_result"
    }
   ],
   "source": [
    "movies_and_ratings.head(20)"
   ]
  },
  {
   "cell_type": "code",
   "execution_count": 11,
   "metadata": {},
   "outputs": [
    {
     "data": {
      "image/png": "[encoded data removed]",
      "text/plain": [
       "<Figure size 720x432 with 1 Axes>"
      ]
     },
     "metadata": {
      "needs_background": "light"
     },
     "output_type": "display_data"
    },
    {
     "data": {
      "image/png": "[encoded data removed]",
      "text/plain": [
       "<Figure size 864x576 with 1 Axes>"
      ]
     },
     "metadata": {
      "needs_background": "light"
     },
     "output_type": "display_data"
    },
    {
     "data": {
      "text/plain": [
       "(610,\n",
       " 9724,\n",
       " Drama        4361\n",
       " Comedy       3756\n",
       " Thriller     1894\n",
       " Action       1828\n",
       " Romance      1596\n",
       " Adventure    1263\n",
       " Crime        1199\n",
       " Sci-Fi        980\n",
       " Horror        978\n",
       " Fantasy       779\n",
       " Name: genre, dtype: int64)"
      ]
     },
     "execution_count": 11,
     "metadata": {},
     "output_type": "execute_result"
    }
   ],
   "source": [
    "# Exploratory Data Analysis\n",
    "\n",
    "# Analysis of ratings distribution\n",
    "plt.figure(figsize=(10, 6))\n",
    "sns.countplot(x='rating', data=ratings)\n",
    "plt.title('Distribution of Ratings')\n",
    "plt.xlabel('Rating')\n",
    "plt.ylabel('Count')\n",
    "plt.show()\n",
    "\n",
    "# Number of unique users and movies\n",
    "num_users = ratings['userId'].nunique()\n",
    "num_movies = ratings['movieId'].nunique()\n",
    "\n",
    "# Analysis of genre distribution\n",
    "all_genres = sum(movies['genres'], [])\n",
    "genres_df = pd.DataFrame(all_genres, columns=['genre'])\n",
    "genre_counts = genres_df['genre'].value_counts()\n",
    "\n",
    "plt.figure(figsize=(12, 8))\n",
    "sns.barplot(x=genre_counts, y=genre_counts.index)\n",
    "plt.title('Distribution of Movie Genres')\n",
    "plt.xlabel('Count')\n",
    "plt.ylabel('Genre')\n",
    "plt.show()\n",
    "\n",
    "num_users, num_movies, genre_counts.head(10)"
   ]
  },
  {
   "cell_type": "code",
   "execution_count": 12,
   "metadata": {
    "scrolled": true
   },
   "outputs": [
    {
     "data": {
      "image/png": "[encoded data removed]",
      "text/plain": [
       "<Figure size 864x432 with 1 Axes>"
      ]
     },
     "metadata": {
      "needs_background": "light"
     },
     "output_type": "display_data"
    }
   ],
   "source": [
    "# Create a dictionary that will contain the movie title appearing once and the total rating\n",
    "movies_dict = {}\n",
    "for _, row in movies_and_ratings.iterrows():\n",
    "    movies = row['title']\n",
    "    rating = row['rating']\n",
    "    if movies in movies_dict:\n",
    "        movies_dict[movies] += rating\n",
    "    else:\n",
    "        movies_dict[movies] = rating\n",
    "        \n",
    "#sort the dictionary in descending order of ratings\n",
    "sorted_movies = sorted(movies_dict.items(), key=lambda x:x[1], reverse=True)\n",
    "# the output is a list of tuples\n",
    "\n",
    "# Extract the Top 10 movies and plot them\n",
    "top_10_movies = sorted_movies[:10]\n",
    "movies, rating = zip(*top_10_movies)\n",
    "#using the zip function with * to unpack the tuples in the sorted list\n",
    "# allows us to separate the movies and ratings into separate lists\n",
    "\n",
    "movies, rating = list(movies), list(rating)\n",
    "\n",
    "# Create a bar plot using seaborn\n",
    "plt.figure(figsize=(12, 6))\n",
    "sns.barplot(x=movies, y=rating)\n",
    "plt.xlabel('Movie Title')\n",
    "plt.ylabel('Ratings')\n",
    "plt.title('Top 10 Movies by Ratings')\n",
    "plt.xticks(rotation=45, ha='right')\n",
    "plt.tight_layout()\n",
    "plt.show()"
   ]
  },
  {
   "cell_type": "markdown",
   "metadata": {},
   "source": [
    "#### Exploratory Data Analysis (EDA) Summary\n",
    "\n",
    "##### Ratings Distribution\n",
    "\n",
    "- The distribution shows that users tend to give higher ratings.\n",
    "- A significant number of ratings are concentrated at 4.0.\n",
    "\n",
    "##### Number of Unique Users and Movies\n",
    "\n",
    "\n",
    "- Number of Users: 610\n",
    "- Number of Movies: 9724\n",
    "\n",
    "\n",
    "##### Genre Distribution\n",
    "\n",
    "- The most common genres in the dataset are Drama and Comedy.\n",
    "- This suggests a wide variety of tastes among the users, which can be beneficial for a recommendation system."
   ]
  },
  {
   "cell_type": "markdown",
   "metadata": {},
   "source": [
    "---\n",
    "### Model Development"
   ]
  },
  {
   "cell_type": "code",
   "execution_count": 13,
   "metadata": {},
   "outputs": [],
   "source": [
    "# Step 1: Prepare the Dataset for Surprise\n",
    "# Convert the merged DataFrame to the format required by the Surprise library.\n",
    "# Create a Reader object\n",
    "\n",
    "reader = Reader(rating_scale=(0.5, 5))\n",
    "\n",
    "# Load the data into a Surprise dataset\n",
    "data = Dataset.load_from_df(movies_and_ratings[['userId', 'movieId', 'rating']], reader)\n"
   ]
  },
  {
   "cell_type": "code",
   "execution_count": 14,
   "metadata": {},
   "outputs": [],
   "source": [
    "# Step 2: Train-Test Split\n",
    "# Split the dataset into the train and the test set\n",
    "\n",
    "trainset, testset = train_test_split(data, test_size=0.25)"
   ]
  },
  {
   "cell_type": "code",
   "execution_count": 15,
   "metadata": {},
   "outputs": [
    {
     "data": {
      "text/plain": [
       "<surprise.prediction_algorithms.matrix_factorization.SVD at 0x1cbde44c610>"
      ]
     },
     "execution_count": 15,
     "metadata": {},
     "output_type": "execute_result"
    }
   ],
   "source": [
    "# Step 3: Create and Train the SVD Model\n",
    "# Create an SVD model and train it on the training set:\n",
    "\n",
    "model = SVD()\n",
    "\n",
    "# Train the model on the training set\n",
    "model.fit(trainset)\n"
   ]
  },
  {
   "cell_type": "code",
   "execution_count": 16,
   "metadata": {},
   "outputs": [
    {
     "name": "stdout",
     "output_type": "stream",
     "text": [
      "RMSE: 0.8776\n"
     ]
    }
   ],
   "source": [
    "# Step 4: Make Predictions and Evaluate the Model\n",
    "# Make predictions on the test set and evaluate the model:\n",
    "\n",
    "# Make predictions on the test set\n",
    "predictions = model.test(testset)\n",
    "\n",
    "# Compute and print Root Mean Squared Error\n",
    "rmse = accuracy.rmse(predictions)"
   ]
  },
  {
   "cell_type": "code",
   "execution_count": 17,
   "metadata": {},
   "outputs": [
    {
     "name": "stdout",
     "output_type": "stream",
     "text": [
      "0.8938990185416577\n",
      "{'n_epochs': 10, 'lr_all': 0.005, 'reg_all': 0.4}\n"
     ]
    }
   ],
   "source": [
    "# Step 5: Hyperparameter Tuning\n",
    "\n",
    "# Define a parameter grid to search over\n",
    "param_grid = {'n_epochs': [5, 10], 'lr_all': [0.002, 0.005],\n",
    "              'reg_all': [0.4, 0.6]}\n",
    "\n",
    "# Perform grid search\n",
    "gs = GridSearchCV(SVD, param_grid, measures=['rmse', 'mae'], cv=3)\n",
    "gs.fit(data)\n",
    "\n",
    "# Best RMSE score\n",
    "print(gs.best_score['rmse'])\n",
    "\n",
    "# Combination of parameters that gave the best RMSE score\n",
    "print(gs.best_params['rmse'])"
   ]
  },
  {
   "cell_type": "code",
   "execution_count": 18,
   "metadata": {},
   "outputs": [
    {
     "data": {
      "text/plain": [
       "<surprise.prediction_algorithms.matrix_factorization.SVD at 0x1cbde367eb0>"
      ]
     },
     "execution_count": 18,
     "metadata": {},
     "output_type": "execute_result"
    }
   ],
   "source": [
    "# Step 6: Using the Best Model\n",
    "# Use the best model\n",
    "best_model = gs.best_estimator['rmse']\n",
    "\n",
    "# Train the model on the full dataset\n",
    "trainset = data.build_full_trainset()\n",
    "best_model.fit(trainset)\n"
   ]
  },
  {
   "cell_type": "markdown",
   "metadata": {},
   "source": [
    "1. **Dataset Preparation and SVD Model Training**: \n",
    "   - A dataset for the Surprise library was prepared and split into training and testing sets (75% train, 25% test).\n",
    "   - An SVD model was trained on the training set.\n",
    "\n",
    "2. **Model Evaluation on Test Set**: \n",
    "   - The trained model was used to make predictions on the test set.\n",
    "   - The RMSE (Root Mean Square Error) obtained was 0.8793, indicating the model's prediction error.\n",
    "\n",
    "3. **Hyperparameter Tuning (First Attempt)**:\n",
    "   - A grid search was conducted with `n_epochs` (5, 10), `lr_all` (0.002, 0.005), and `reg_all` (0.4, 0.6).\n",
    "   - The best RMSE achieved was 0.8942 with parameters: `n_epochs`: 10, `lr_all`: 0.005, `reg_all`: 0.4."
   ]
  },
  {
   "cell_type": "markdown",
   "metadata": {},
   "source": [
    "---\n",
    "### Model Evaluation and Tuning\n",
    "After training the model, we will evaluate its performance. The most common metrics used for this purpose are Root Mean Square Error (RMSE) and Mean Absolute Error (MAE). "
   ]
  },
  {
   "cell_type": "code",
   "execution_count": 19,
   "metadata": {},
   "outputs": [
    {
     "name": "stdout",
     "output_type": "stream",
     "text": [
      "Evaluating RMSE, MAE of algorithm SVD on 5 split(s).\n",
      "\n",
      "                  Fold 1  Fold 2  Fold 3  Fold 4  Fold 5  Mean    Std     \n",
      "RMSE (testset)    0.8760  0.8773  0.8775  0.8655  0.8781  0.8749  0.0047  \n",
      "MAE (testset)     0.6718  0.6727  0.6728  0.6656  0.6747  0.6715  0.0031  \n",
      "Fit time          4.13    4.17    4.04    4.09    4.08    4.10    0.04    \n",
      "Test time         0.24    0.12    0.13    0.24    0.12    0.17    0.06    \n"
     ]
    }
   ],
   "source": [
    "# 1. Cross-Validation: Perform cross-validation to evaluate the model's performance.\n",
    "    \n",
    "from surprise.model_selection import cross_validate\n",
    "\n",
    "# Using the SVD algorithm\n",
    "svd = SVD()\n",
    "\n",
    "# Perform 5-fold cross-validation and print results\n",
    "cross_validate_results = cross_validate(svd, data, measures=['RMSE', 'MAE'], cv=5, verbose=True)"
   ]
  },
  {
   "cell_type": "code",
   "execution_count": 20,
   "metadata": {},
   "outputs": [
    {
     "name": "stdout",
     "output_type": "stream",
     "text": [
      "RMSE: 0.8745\n",
      "MAE:  0.6707\n"
     ]
    }
   ],
   "source": [
    "# 2. Train-Test Split Evaluation: \n",
    "# Alternatively, you can split the data into training and testing sets and then evaluate the model's \n",
    "# performance on the test set.\n",
    "from surprise import accuracy\n",
    "\n",
    "# Split the data into train and test sets\n",
    "trainset, testset = train_test_split(data, test_size=0.25)\n",
    "\n",
    "# Train the model on the trainset\n",
    "svd.fit(trainset)\n",
    "\n",
    "# Predict on the test set\n",
    "predictions = svd.test(testset)\n",
    "\n",
    "# Compute and print the RMSE and MAE\n",
    "rmse = accuracy.rmse(predictions)\n",
    "mae = accuracy.mae(predictions)\n"
   ]
  },
  {
   "cell_type": "markdown",
   "metadata": {},
   "source": [
    "#### Step 2: Model Tuning\n",
    "\n",
    "To improve the model, we tune its hyperparameters"
   ]
  },
  {
   "cell_type": "code",
   "execution_count": 21,
   "metadata": {},
   "outputs": [],
   "source": [
    "from surprise.model_selection import GridSearchCV\n",
    "\n",
    "# Define a parameter grid to tune SVD\n",
    "param_grid = {\n",
    "    'n_epochs': [5, 10, 20],  # number of epochs\n",
    "    'lr_all': [0.002, 0.005],  # learning rate\n",
    "    'reg_all': [0.02, 0.1]  # regularization term\n",
    "}\n",
    "\n",
    "# Use grid search to find the best hyperparameters\n",
    "gs = GridSearchCV(SVD, param_grid, measures=['RMSE', 'MAE'], cv=3)\n"
   ]
  },
  {
   "cell_type": "code",
   "execution_count": 22,
   "metadata": {},
   "outputs": [
    {
     "name": "stdout",
     "output_type": "stream",
     "text": [
      "Best RMSE: 0.875706011036244\n",
      "Best parameters: {'n_epochs': 20, 'lr_all': 0.005, 'reg_all': 0.1}\n"
     ]
    }
   ],
   "source": [
    "# Perform Grid Search: Run grid search on your dataset to find the best combination of parameters.\n",
    "\n",
    "# Fit GridSearchCV\n",
    "gs.fit(data)\n",
    "\n",
    "# Best RMSE score and parameters\n",
    "print(f\"Best RMSE: {gs.best_score['rmse']}\")\n",
    "print(f\"Best parameters: {gs.best_params['rmse']}\")\n"
   ]
  },
  {
   "cell_type": "markdown",
   "metadata": {},
   "source": [
    "1. **Cross-Validation**:\n",
    "   - 5-fold cross-validation was performed on the SVD algorithm.\n",
    "   - The mean RMSE across folds was 0.8736 with a standard deviation of 0.0016, and the mean MAE (Mean Absolute Error) was 0.6713 with a standard deviation of 0.0018.\n",
    "   - The fitting time averaged 3.95 seconds, and the testing time averaged 0.15 seconds per fold.\n",
    "\n",
    "2. **Train-Test Split Evaluation**:\n",
    "   - On a different train-test split, the model achieved an RMSE of 0.8758 and an MAE of 0.6730.\n",
    "\n",
    "3. **Hyperparameter Tuning (Second Attempt)**:\n",
    "   - A more extensive grid search was conducted with a wider range of parameters.\n",
    "   - The best RMSE found was 0.8751 with the parameters: `n_epochs`: 20, `lr_all`: 0.005, `reg_all`: 0.1.\n",
    "\n",
    "#### Summary\n",
    "\n",
    "- The SVD model demonstrates good performance with an RMSE of around 0.875 to 0.879, which is a common metric for evaluating accuracy in recommendation systems.\n",
    "- The hyperparameter tuning process helped in optimizing the model's performance, with the second attempt achieving a slightly better RMSE compared to the initial tuning.\n",
    "- The consistency in RMSE and MAE across different evaluation methods (cross-validation and train-test split) indicates the stability of the model.\n",
    "- The model can be further improved and fine-tuned by experimenting with different ranges of hyperparameters or by trying different collaborative filtering algorithms available in the Surprise library."
   ]
  },
  {
   "cell_type": "markdown",
   "metadata": {},
   "source": [
    "Implementing collaborative filtering algorithms typically involves two primary approaches: User-Based Collaborative Filtering and Item-Based Collaborative Filtering."
   ]
  },
  {
   "cell_type": "markdown",
   "metadata": {},
   "source": [
    "### User-Based Collaborative Filtering\n",
    "This method makes recommendations based on the preferences of similar users. The key idea is that if users A and B have rated movies similarly in the past, then a movie liked by user A but not yet seen by user B can be recommended to user B."
   ]
  },
  {
   "cell_type": "code",
   "execution_count": 23,
   "metadata": {},
   "outputs": [
    {
     "name": "stdout",
     "output_type": "stream",
     "text": [
      "Computing the msd similarity matrix...\n",
      "Done computing similarity matrix.\n"
     ]
    }
   ],
   "source": [
    "# 1.Choose an Algorithm: One common algorithm for user-based collaborative filtering in Surprise is KNNBasic.\n",
    "\n",
    "from surprise import KNNBasic\n",
    "\n",
    "# Configure the algorithm to use user-based similarity\n",
    "user_based_cf = KNNBasic(sim_options={'user_based': True})\n",
    "\n",
    "# Train the algorithm on the trainset\n",
    "user_based_cf.fit(trainset)\n",
    "\n",
    "# Make predictions\n",
    "user_predictions = user_based_cf.test(testset)\n"
   ]
  },
  {
   "cell_type": "code",
   "execution_count": 24,
   "metadata": {
    "scrolled": true
   },
   "outputs": [
    {
     "name": "stdout",
     "output_type": "stream",
     "text": [
      "RMSE: 0.9486\n",
      "MAE:  0.7260\n"
     ]
    }
   ],
   "source": [
    "# Evaluate the Model: Calculate RMSE and MAE to evaluate the performance.\n",
    "\n",
    "user_rmse = accuracy.rmse(user_predictions)\n",
    "user_mae = accuracy.mae(user_predictions)\n"
   ]
  },
  {
   "cell_type": "markdown",
   "metadata": {},
   "source": [
    "The summary of the outcomes for  User-Based Collaborative Filtering using the KNNBasic algorithm in the Surprise library is as follows:\n",
    "\n",
    "- **Performance**:\n",
    "  - **RMSE (Root Mean Square Error)**: 0.9465. This value indicates the average deviation of the predictions from the actual ratings.\n",
    "  - **MAE (Mean Absolute Error)**: 0.7254. This shows the average absolute difference between predicted and actual ratings."
   ]
  },
  {
   "cell_type": "markdown",
   "metadata": {},
   "source": [
    "### Item-Based Collaborative Filtering\n",
    "This method recommends items that are similar to those the user has liked in the past. It's based on the similarity between items."
   ]
  },
  {
   "cell_type": "code",
   "execution_count": 25,
   "metadata": {},
   "outputs": [
    {
     "name": "stdout",
     "output_type": "stream",
     "text": [
      "Computing the msd similarity matrix...\n",
      "Done computing similarity matrix.\n"
     ]
    }
   ],
   "source": [
    "# Choose an Algorithm: KNNBasic can also be used for item-based collaborative filtering.\n",
    "# Configure the algorithm to use item-based similarity\n",
    "item_based_cf = KNNBasic(sim_options={'user_based': False})\n",
    "\n",
    "# Train the algorithm on the trainset\n",
    "item_based_cf.fit(trainset)\n",
    "\n",
    "# Make predictions\n",
    "item_predictions = item_based_cf.test(testset)"
   ]
  },
  {
   "cell_type": "code",
   "execution_count": 26,
   "metadata": {},
   "outputs": [
    {
     "name": "stdout",
     "output_type": "stream",
     "text": [
      "RMSE: 0.9065\n",
      "MAE:  0.6972\n"
     ]
    }
   ],
   "source": [
    "# Evaluate the Model: As before, calculate RMSE and MAE.\n",
    "item_rmse = accuracy.rmse(item_predictions)\n",
    "item_mae = accuracy.mae(item_predictions)"
   ]
  },
  {
   "cell_type": "markdown",
   "metadata": {},
   "source": [
    "The summary of the outcomes for  Item-Based Collaborative Filtering using the KNNBasic algorithm in the Surprise library is as follows:\n",
    "\n",
    "#### Item-Based Collaborative Filtering\n",
    "\n",
    "- **Performance**:\n",
    "  - **RMSE**: 0.9123. A slightly lower RMSE compared to the user-based approach, suggesting better accuracy in predictions.\n",
    "  - **MAE**: 0.6999. This is also lower than the user-based approach, indicating more precise predictions.\n",
    "\n",
    "#### Overall Summary\n",
    "\n",
    "- Both methods were implemented using the KNNBasic algorithm with specific configurations for user-based and item-based approaches.\n",
    "- The item-based approach yielded slightly better results in terms of RMSE and MAE, suggesting that it might be more effective for this particular dataset.\n",
    "- The mean-squared deviation similarity matrix was computed for both methods to measure the similarity between users or items.\n",
    "- The choice between user-based and item-based collaborative filtering should consider these performance metrics as well as the specific characteristics and requirements of the dataset and the recommendation system."
   ]
  },
  {
   "cell_type": "markdown",
   "metadata": {},
   "source": [
    "### Expected Outcomes\n",
    "\n",
    "Based on the provided outcomes from the model evaluation, let's assess whether the model has achieved the expected outcomes for a robust, user-friendly Movie Recommendation System:\n",
    "\n",
    "1. **Accurately Predicts User Preferences**:\n",
    "   - The RMSE and MAE values give us an indication of the model's accuracy. For both user-based and item-based collaborative filtering, the RMSE values were 0.9465 and 0.9123, respectively, while MAE values were 0.7254 and 0.6999. These values suggest a reasonable level of accuracy, but there might be room for improvement. In the realm of movie recommendation systems, even small improvements in accuracy can significantly enhance user satisfaction.\n",
    "\n",
    "2. **Enhances User Engagement by Providing Relevant Movie Suggestions**:\n",
    "   - While the RMSE and MAE provide a quantitative measure of the model's performance, the qualitative aspect, i.e., how relevant the recommendations are to individual users, is not directly measured by these metrics. User engagement is often assessed through user studies or A/B testing in a live environment, where the relevance of recommendations can be evaluated in real-world scenarios.\n",
    "\n",
    "3. **Is Scalable and Adaptable to an Expanding User Base and Evolving Movie Datasets**:\n",
    "   - The model's scalability and adaptability were not directly tested with the given outputs. However, the use of algorithms like KNNBasic and SVD from the Surprise library is generally a good choice for scalability. These algorithms can handle larger datasets, although their performance in terms of speed and memory usage can vary. For truly large-scale systems, further optimizations or more scalable algorithms might be necessary.\n",
    "   - The model's adaptability to an evolving dataset (like new users or movies being added) wasn't explicitly evaluated. In a real-world application, the system would need mechanisms to handle cold start problems (new users or items with little to no data) and to update recommendations as new data comes in.\n",
    "\n",
    "### Conclusion\n",
    "\n",
    "- The current model demonstrates a reasonable level of accuracy and a good starting point for a movie recommendation system.\n",
    "- Further enhancements in accuracy, relevance assessment, scalability, and adaptability would be beneficial to fully meet the expected outcomes.\n",
    "- Incorporating user feedback, exploring more sophisticated algorithms, and conducting extensive testing, particularly in a live environment, would be essential steps in refining the system to better meet these goals."
   ]
  }
 ],
 "metadata": {
  "kernelspec": {
   "display_name": "Python 3",
   "language": "python",
   "name": "python3"
  },
  "language_info": {
   "codemirror_mode": {
    "name": "ipython",
    "version": 3
   },
   "file_extension": ".py",
   "mimetype": "text/x-python",
   "name": "python",
   "nbconvert_exporter": "python",
   "pygments_lexer": "ipython3",
   "version": "3.8.5"
  }
 },
 "nbformat": 4,
 "nbformat_minor": 4
}
