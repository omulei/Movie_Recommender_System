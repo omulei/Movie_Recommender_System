{
 "cells": [
  {
   "cell_type": "markdown",
   "metadata": {},
   "source": [
    "# Movie Recommender System"
   ]
  },
  {
   "cell_type": "markdown",
   "metadata": {},
   "source": [
    "Authors:\n",
    "\n",
    "1. Oscar Mulei\n",
    "\n",
    "2. Rose Kyalo\n",
    "\n",
    "3. Angel Linah Atungire\n",
    "\n",
    "Program: Moringa School Data Science\n",
    "\n",
    "Group 2"
   ]
  },
  {
   "cell_type": "markdown",
   "metadata": {},
   "source": [
    "## Overview"
   ]
  },
  {
   "cell_type": "markdown",
   "metadata": {},
   "source": [
    "In today's dynamic digital marketplace, recommendation systems efficiently bridge the gap between buyers and a diverse array of items by analyzing user behavior and preferences. These systems serve to streamline the shopping experience by suggesting personalized options, effectively assisting sellers in meeting customer needs and significantly boosting sales and satisfaction."
   ]
  },
  {
   "cell_type": "markdown",
   "metadata": {},
   "source": [
    "## Business Understanding"
   ]
  },
  {
   "cell_type": "markdown",
   "metadata": {},
   "source": [
    "The project's goal is to develop a movie recommendation system that recommends the best five films\n",
    "based on user ratings. The technology will assess user preferences and offer personalized\n",
    "recommendations using collaborative filtering techniques. The project's primary goal is to create a\n",
    "recommender system, a subset of artificial intelligence that predicts user preferences and recommends\n",
    "movies that the user might love. To automatically estimate user preferences, collaborative filtering will\n",
    "be used."
   ]
  },
  {
   "cell_type": "markdown",
   "metadata": {},
   "source": [
    "## Business Problem"
   ]
  },
  {
   "cell_type": "markdown",
   "metadata": {},
   "source": [
    "Company A, a renowned player in the movie production industry, is keen to optimize its promotional strategies for a diverse portfolio of films. They've sought our expertise to engineer a robust movie recommendation system. This system aims to deliver tailor-made movie suggestions to their audience, ultimately amplifying user engagement and fueling successful promotional endeavors."
   ]
  },
  {
   "cell_type": "markdown",
   "metadata": {},
   "source": [
    "## Key Objectives"
   ]
  },
  {
   "cell_type": "markdown",
   "metadata": {},
   "source": [
    "1. **Precision in Recommendations**\n",
    "\n",
    "Develop an algorithm that accurately identifies and suggests the top five movies based on user ratings, ensuring the recommendations align closely with individual user preferences.\n",
    "\n",
    "2. **User Engagement Enhancement**\n",
    "\n",
    "Create a recommendation system that significantly boosts user engagement by delivering personalized movie suggestions, thereby increasing user interaction and time spent on the platform.\n",
    "\n",
    "3. **Promotional Effectiveness**\n",
    "\n",
    "Design a robust recommendation system that empowers Company A to enhance their film promotion strategies by providing tailored movie suggestions to their audience, ultimately driving successful promotional campaigns and increasing viewership."
   ]
  },
  {
   "cell_type": "markdown",
   "metadata": {},
   "source": [
    "## Data Understanding"
   ]
  },
  {
   "cell_type": "markdown",
   "metadata": {},
   "source": [
    "In this project, we'll utilize the MovieLens dataset, available at [this link](https://grouplens.org/datasets/movielens/latest/). This dataset comprises essential files:\n",
    "\n",
    "1. **links.csv:** Provides linkage information, connecting movies to external databases or resources.\n",
    "2. **movies.csv:** Contains details about the movies themselves, such as titles, genres, and release years.\n",
    "3. **ratings.csv:** Holds user-generated movie ratings, offering insights into how users perceive and rate different films.\n",
    "4. **tags.csv:** Contains descriptive tags or labels applied by users to movies, adding another layer of user-generated information to enhance understanding and categorization.\n",
    "\n",
    "These files collectively furnish a comprehensive view of user interactions with movies, encompassing both quantitative ratings and qualitative descriptive tags, offering a rich source of data for our recommendation system."
   ]
  },
  {
   "cell_type": "markdown",
   "metadata": {},
   "source": [
    "## Data Cleaning and Expolatory Data Analysis"
   ]
  },
  {
   "cell_type": "code",
   "execution_count": 1,
   "metadata": {},
   "outputs": [],
   "source": [
    "# import necessary packages \n",
    "import pandas as pd\n",
    "import numpy as np\n",
    "import matplotlib.pyplot as plt\n",
    "import seaborn as sns"
   ]
  },
  {
   "cell_type": "code",
   "execution_count": 2,
   "metadata": {},
   "outputs": [],
   "source": [
    "# load the dataset\n",
    "links = pd.read_csv(\"Data/links.csv\")\n",
    "tags = pd.read_csv(\"Data/tags.csv\")\n",
    "ratings = pd.read_csv(\"Data/ratings.csv\")\n",
    "movies = pd.read_csv(\"Data/movies.csv\")"
   ]
  },
  {
   "cell_type": "code",
   "execution_count": 3,
   "metadata": {},
   "outputs": [
    {
     "data": {
      "text/html": [
       "<div>\n",
       "<style scoped>\n",
       "    .dataframe tbody tr th:only-of-type {\n",
       "        vertical-align: middle;\n",
       "    }\n",
       "\n",
       "    .dataframe tbody tr th {\n",
       "        vertical-align: top;\n",
       "    }\n",
       "\n",
       "    .dataframe thead th {\n",
       "        text-align: right;\n",
       "    }\n",
       "</style>\n",
       "<table border=\"1\" class=\"dataframe\">\n",
       "  <thead>\n",
       "    <tr style=\"text-align: right;\">\n",
       "      <th></th>\n",
       "      <th>movieId</th>\n",
       "      <th>imdbId</th>\n",
       "      <th>tmdbId</th>\n",
       "    </tr>\n",
       "  </thead>\n",
       "  <tbody>\n",
       "    <tr>\n",
       "      <th>0</th>\n",
       "      <td>1</td>\n",
       "      <td>114709</td>\n",
       "      <td>862.0</td>\n",
       "    </tr>\n",
       "    <tr>\n",
       "      <th>1</th>\n",
       "      <td>2</td>\n",
       "      <td>113497</td>\n",
       "      <td>8844.0</td>\n",
       "    </tr>\n",
       "    <tr>\n",
       "      <th>2</th>\n",
       "      <td>3</td>\n",
       "      <td>113228</td>\n",
       "      <td>15602.0</td>\n",
       "    </tr>\n",
       "    <tr>\n",
       "      <th>3</th>\n",
       "      <td>4</td>\n",
       "      <td>114885</td>\n",
       "      <td>31357.0</td>\n",
       "    </tr>\n",
       "    <tr>\n",
       "      <th>4</th>\n",
       "      <td>5</td>\n",
       "      <td>113041</td>\n",
       "      <td>11862.0</td>\n",
       "    </tr>\n",
       "  </tbody>\n",
       "</table>\n",
       "</div>"
      ],
      "text/plain": [
       "   movieId  imdbId   tmdbId\n",
       "0        1  114709    862.0\n",
       "1        2  113497   8844.0\n",
       "2        3  113228  15602.0\n",
       "3        4  114885  31357.0\n",
       "4        5  113041  11862.0"
      ]
     },
     "execution_count": 3,
     "metadata": {},
     "output_type": "execute_result"
    }
   ],
   "source": [
    "links.head()"
   ]
  },
  {
   "cell_type": "code",
   "execution_count": 4,
   "metadata": {},
   "outputs": [
    {
     "data": {
      "text/html": [
       "<div>\n",
       "<style scoped>\n",
       "    .dataframe tbody tr th:only-of-type {\n",
       "        vertical-align: middle;\n",
       "    }\n",
       "\n",
       "    .dataframe tbody tr th {\n",
       "        vertical-align: top;\n",
       "    }\n",
       "\n",
       "    .dataframe thead th {\n",
       "        text-align: right;\n",
       "    }\n",
       "</style>\n",
       "<table border=\"1\" class=\"dataframe\">\n",
       "  <thead>\n",
       "    <tr style=\"text-align: right;\">\n",
       "      <th></th>\n",
       "      <th>userId</th>\n",
       "      <th>movieId</th>\n",
       "      <th>tag</th>\n",
       "      <th>timestamp</th>\n",
       "    </tr>\n",
       "  </thead>\n",
       "  <tbody>\n",
       "    <tr>\n",
       "      <th>0</th>\n",
       "      <td>2</td>\n",
       "      <td>60756</td>\n",
       "      <td>funny</td>\n",
       "      <td>1445714994</td>\n",
       "    </tr>\n",
       "    <tr>\n",
       "      <th>1</th>\n",
       "      <td>2</td>\n",
       "      <td>60756</td>\n",
       "      <td>Highly quotable</td>\n",
       "      <td>1445714996</td>\n",
       "    </tr>\n",
       "    <tr>\n",
       "      <th>2</th>\n",
       "      <td>2</td>\n",
       "      <td>60756</td>\n",
       "      <td>will ferrell</td>\n",
       "      <td>1445714992</td>\n",
       "    </tr>\n",
       "    <tr>\n",
       "      <th>3</th>\n",
       "      <td>2</td>\n",
       "      <td>89774</td>\n",
       "      <td>Boxing story</td>\n",
       "      <td>1445715207</td>\n",
       "    </tr>\n",
       "    <tr>\n",
       "      <th>4</th>\n",
       "      <td>2</td>\n",
       "      <td>89774</td>\n",
       "      <td>MMA</td>\n",
       "      <td>1445715200</td>\n",
       "    </tr>\n",
       "  </tbody>\n",
       "</table>\n",
       "</div>"
      ],
      "text/plain": [
       "   userId  movieId              tag   timestamp\n",
       "0       2    60756            funny  1445714994\n",
       "1       2    60756  Highly quotable  1445714996\n",
       "2       2    60756     will ferrell  1445714992\n",
       "3       2    89774     Boxing story  1445715207\n",
       "4       2    89774              MMA  1445715200"
      ]
     },
     "execution_count": 4,
     "metadata": {},
     "output_type": "execute_result"
    }
   ],
   "source": [
    "tags.head()"
   ]
  },
  {
   "cell_type": "code",
   "execution_count": 5,
   "metadata": {},
   "outputs": [
    {
     "data": {
      "text/html": [
       "<div>\n",
       "<style scoped>\n",
       "    .dataframe tbody tr th:only-of-type {\n",
       "        vertical-align: middle;\n",
       "    }\n",
       "\n",
       "    .dataframe tbody tr th {\n",
       "        vertical-align: top;\n",
       "    }\n",
       "\n",
       "    .dataframe thead th {\n",
       "        text-align: right;\n",
       "    }\n",
       "</style>\n",
       "<table border=\"1\" class=\"dataframe\">\n",
       "  <thead>\n",
       "    <tr style=\"text-align: right;\">\n",
       "      <th></th>\n",
       "      <th>userId</th>\n",
       "      <th>movieId</th>\n",
       "      <th>rating</th>\n",
       "      <th>timestamp</th>\n",
       "    </tr>\n",
       "  </thead>\n",
       "  <tbody>\n",
       "    <tr>\n",
       "      <th>0</th>\n",
       "      <td>1</td>\n",
       "      <td>1</td>\n",
       "      <td>4.0</td>\n",
       "      <td>964982703</td>\n",
       "    </tr>\n",
       "    <tr>\n",
       "      <th>1</th>\n",
       "      <td>1</td>\n",
       "      <td>3</td>\n",
       "      <td>4.0</td>\n",
       "      <td>964981247</td>\n",
       "    </tr>\n",
       "    <tr>\n",
       "      <th>2</th>\n",
       "      <td>1</td>\n",
       "      <td>6</td>\n",
       "      <td>4.0</td>\n",
       "      <td>964982224</td>\n",
       "    </tr>\n",
       "    <tr>\n",
       "      <th>3</th>\n",
       "      <td>1</td>\n",
       "      <td>47</td>\n",
       "      <td>5.0</td>\n",
       "      <td>964983815</td>\n",
       "    </tr>\n",
       "    <tr>\n",
       "      <th>4</th>\n",
       "      <td>1</td>\n",
       "      <td>50</td>\n",
       "      <td>5.0</td>\n",
       "      <td>964982931</td>\n",
       "    </tr>\n",
       "  </tbody>\n",
       "</table>\n",
       "</div>"
      ],
      "text/plain": [
       "   userId  movieId  rating  timestamp\n",
       "0       1        1     4.0  964982703\n",
       "1       1        3     4.0  964981247\n",
       "2       1        6     4.0  964982224\n",
       "3       1       47     5.0  964983815\n",
       "4       1       50     5.0  964982931"
      ]
     },
     "execution_count": 5,
     "metadata": {},
     "output_type": "execute_result"
    }
   ],
   "source": [
    "ratings.head()"
   ]
  },
  {
   "cell_type": "code",
   "execution_count": 6,
   "metadata": {},
   "outputs": [
    {
     "data": {
      "text/html": [
       "<div>\n",
       "<style scoped>\n",
       "    .dataframe tbody tr th:only-of-type {\n",
       "        vertical-align: middle;\n",
       "    }\n",
       "\n",
       "    .dataframe tbody tr th {\n",
       "        vertical-align: top;\n",
       "    }\n",
       "\n",
       "    .dataframe thead th {\n",
       "        text-align: right;\n",
       "    }\n",
       "</style>\n",
       "<table border=\"1\" class=\"dataframe\">\n",
       "  <thead>\n",
       "    <tr style=\"text-align: right;\">\n",
       "      <th></th>\n",
       "      <th>movieId</th>\n",
       "      <th>title</th>\n",
       "      <th>genres</th>\n",
       "    </tr>\n",
       "  </thead>\n",
       "  <tbody>\n",
       "    <tr>\n",
       "      <th>0</th>\n",
       "      <td>1</td>\n",
       "      <td>Toy Story (1995)</td>\n",
       "      <td>Adventure|Animation|Children|Comedy|Fantasy</td>\n",
       "    </tr>\n",
       "    <tr>\n",
       "      <th>1</th>\n",
       "      <td>2</td>\n",
       "      <td>Jumanji (1995)</td>\n",
       "      <td>Adventure|Children|Fantasy</td>\n",
       "    </tr>\n",
       "    <tr>\n",
       "      <th>2</th>\n",
       "      <td>3</td>\n",
       "      <td>Grumpier Old Men (1995)</td>\n",
       "      <td>Comedy|Romance</td>\n",
       "    </tr>\n",
       "    <tr>\n",
       "      <th>3</th>\n",
       "      <td>4</td>\n",
       "      <td>Waiting to Exhale (1995)</td>\n",
       "      <td>Comedy|Drama|Romance</td>\n",
       "    </tr>\n",
       "    <tr>\n",
       "      <th>4</th>\n",
       "      <td>5</td>\n",
       "      <td>Father of the Bride Part II (1995)</td>\n",
       "      <td>Comedy</td>\n",
       "    </tr>\n",
       "  </tbody>\n",
       "</table>\n",
       "</div>"
      ],
      "text/plain": [
       "   movieId                               title  \\\n",
       "0        1                    Toy Story (1995)   \n",
       "1        2                      Jumanji (1995)   \n",
       "2        3             Grumpier Old Men (1995)   \n",
       "3        4            Waiting to Exhale (1995)   \n",
       "4        5  Father of the Bride Part II (1995)   \n",
       "\n",
       "                                        genres  \n",
       "0  Adventure|Animation|Children|Comedy|Fantasy  \n",
       "1                   Adventure|Children|Fantasy  \n",
       "2                               Comedy|Romance  \n",
       "3                         Comedy|Drama|Romance  \n",
       "4                                       Comedy  "
      ]
     },
     "execution_count": 6,
     "metadata": {},
     "output_type": "execute_result"
    }
   ],
   "source": [
    "movies.head()"
   ]
  },
  {
   "cell_type": "code",
   "execution_count": 7,
   "metadata": {},
   "outputs": [
    {
     "name": "stdout",
     "output_type": "stream",
     "text": [
      "<class 'pandas.core.frame.DataFrame'>\n",
      "RangeIndex: 9742 entries, 0 to 9741\n",
      "Data columns (total 3 columns):\n",
      " #   Column   Non-Null Count  Dtype \n",
      "---  ------   --------------  ----- \n",
      " 0   movieId  9742 non-null   int64 \n",
      " 1   title    9742 non-null   object\n",
      " 2   genres   9742 non-null   object\n",
      "dtypes: int64(1), object(2)\n",
      "memory usage: 228.5+ KB\n"
     ]
    }
   ],
   "source": [
    "movies.info()"
   ]
  },
  {
   "cell_type": "code",
   "execution_count": 8,
   "metadata": {},
   "outputs": [
    {
     "name": "stdout",
     "output_type": "stream",
     "text": [
      "<class 'pandas.core.frame.DataFrame'>\n",
      "RangeIndex: 100836 entries, 0 to 100835\n",
      "Data columns (total 4 columns):\n",
      " #   Column     Non-Null Count   Dtype  \n",
      "---  ------     --------------   -----  \n",
      " 0   userId     100836 non-null  int64  \n",
      " 1   movieId    100836 non-null  int64  \n",
      " 2   rating     100836 non-null  float64\n",
      " 3   timestamp  100836 non-null  int64  \n",
      "dtypes: float64(1), int64(3)\n",
      "memory usage: 3.1 MB\n"
     ]
    }
   ],
   "source": [
    "ratings.info()"
   ]
  },
  {
   "cell_type": "code",
   "execution_count": 9,
   "metadata": {},
   "outputs": [
    {
     "name": "stdout",
     "output_type": "stream",
     "text": [
      "<class 'pandas.core.frame.DataFrame'>\n",
      "RangeIndex: 9742 entries, 0 to 9741\n",
      "Data columns (total 3 columns):\n",
      " #   Column   Non-Null Count  Dtype  \n",
      "---  ------   --------------  -----  \n",
      " 0   movieId  9742 non-null   int64  \n",
      " 1   imdbId   9742 non-null   int64  \n",
      " 2   tmdbId   9734 non-null   float64\n",
      "dtypes: float64(1), int64(2)\n",
      "memory usage: 228.5 KB\n"
     ]
    }
   ],
   "source": [
    "links.info()"
   ]
  },
  {
   "cell_type": "code",
   "execution_count": 10,
   "metadata": {},
   "outputs": [
    {
     "name": "stdout",
     "output_type": "stream",
     "text": [
      "<class 'pandas.core.frame.DataFrame'>\n",
      "RangeIndex: 3683 entries, 0 to 3682\n",
      "Data columns (total 4 columns):\n",
      " #   Column     Non-Null Count  Dtype \n",
      "---  ------     --------------  ----- \n",
      " 0   userId     3683 non-null   int64 \n",
      " 1   movieId    3683 non-null   int64 \n",
      " 2   tag        3683 non-null   object\n",
      " 3   timestamp  3683 non-null   int64 \n",
      "dtypes: int64(3), object(1)\n",
      "memory usage: 115.2+ KB\n"
     ]
    }
   ],
   "source": [
    "tags.info()"
   ]
  },
  {
   "cell_type": "code",
   "execution_count": 11,
   "metadata": {},
   "outputs": [
    {
     "data": {
      "text/plain": [
       "movieId    0\n",
       "title      0\n",
       "genres     0\n",
       "dtype: int64"
      ]
     },
     "execution_count": 11,
     "metadata": {},
     "output_type": "execute_result"
    }
   ],
   "source": [
    "# checking for missing values\n",
    "movies.isnull().sum()"
   ]
  },
  {
   "cell_type": "code",
   "execution_count": 12,
   "metadata": {},
   "outputs": [
    {
     "data": {
      "text/plain": [
       "userId       0\n",
       "movieId      0\n",
       "rating       0\n",
       "timestamp    0\n",
       "dtype: int64"
      ]
     },
     "execution_count": 12,
     "metadata": {},
     "output_type": "execute_result"
    }
   ],
   "source": [
    "ratings.isnull().sum()"
   ]
  },
  {
   "cell_type": "code",
   "execution_count": 13,
   "metadata": {},
   "outputs": [
    {
     "data": {
      "text/plain": [
       "userId       0\n",
       "movieId      0\n",
       "tag          0\n",
       "timestamp    0\n",
       "dtype: int64"
      ]
     },
     "execution_count": 13,
     "metadata": {},
     "output_type": "execute_result"
    }
   ],
   "source": [
    "tags.isnull().sum()"
   ]
  },
  {
   "cell_type": "code",
   "execution_count": 14,
   "metadata": {},
   "outputs": [
    {
     "data": {
      "text/plain": [
       "movieId    0\n",
       "imdbId     0\n",
       "tmdbId     8\n",
       "dtype: int64"
      ]
     },
     "execution_count": 14,
     "metadata": {},
     "output_type": "execute_result"
    }
   ],
   "source": [
    "links.isnull().sum()"
   ]
  },
  {
   "cell_type": "code",
   "execution_count": 15,
   "metadata": {},
   "outputs": [],
   "source": [
    "# handling the missing values in links data\n",
    "# decided to delete the rows with the missing data, since it is only 0.082% of the data.\n",
    "links.dropna(inplace=True)"
   ]
  },
  {
   "cell_type": "code",
   "execution_count": 16,
   "metadata": {},
   "outputs": [
    {
     "data": {
      "text/plain": [
       "movieId    0\n",
       "imdbId     0\n",
       "tmdbId     0\n",
       "dtype: int64"
      ]
     },
     "execution_count": 16,
     "metadata": {},
     "output_type": "execute_result"
    }
   ],
   "source": [
    "links.isnull().sum()"
   ]
  },
  {
   "cell_type": "code",
   "execution_count": 17,
   "metadata": {},
   "outputs": [
    {
     "data": {
      "text/plain": [
       "0"
      ]
     },
     "execution_count": 17,
     "metadata": {},
     "output_type": "execute_result"
    }
   ],
   "source": [
    "# checking for duplicates\n",
    "movies.duplicated().sum()"
   ]
  },
  {
   "cell_type": "code",
   "execution_count": 18,
   "metadata": {},
   "outputs": [
    {
     "data": {
      "text/plain": [
       "0"
      ]
     },
     "execution_count": 18,
     "metadata": {},
     "output_type": "execute_result"
    }
   ],
   "source": [
    "links.duplicated().sum()"
   ]
  },
  {
   "cell_type": "code",
   "execution_count": 19,
   "metadata": {},
   "outputs": [
    {
     "data": {
      "text/plain": [
       "0"
      ]
     },
     "execution_count": 19,
     "metadata": {},
     "output_type": "execute_result"
    }
   ],
   "source": [
    "ratings.duplicated().sum()"
   ]
  },
  {
   "cell_type": "code",
   "execution_count": 20,
   "metadata": {},
   "outputs": [
    {
     "data": {
      "text/plain": [
       "0"
      ]
     },
     "execution_count": 20,
     "metadata": {},
     "output_type": "execute_result"
    }
   ],
   "source": [
    "tags.duplicated().sum()"
   ]
  },
  {
   "cell_type": "code",
   "execution_count": 21,
   "metadata": {},
   "outputs": [],
   "source": [
    "# Exploratory data analysis \n",
    "# Visualizing the data to see if there are any relationships or hidden trends."
   ]
  },
  {
   "cell_type": "code",
   "execution_count": 22,
   "metadata": {},
   "outputs": [
    {
     "data": {
      "text/plain": [
       "In Netflix queue        131\n",
       "atmospheric              36\n",
       "thought-provoking        24\n",
       "superhero                24\n",
       "surreal                  23\n",
       "                       ... \n",
       "They Might Be Giants      1\n",
       "arthouse                  1\n",
       "Andy Garcia               1\n",
       "Train                     1\n",
       "dancing                   1\n",
       "Name: tag, Length: 1589, dtype: int64"
      ]
     },
     "execution_count": 22,
     "metadata": {},
     "output_type": "execute_result"
    }
   ],
   "source": [
    "tags['tag'].value_counts()"
   ]
  },
  {
   "cell_type": "code",
   "execution_count": 23,
   "metadata": {},
   "outputs": [
    {
     "data": {
      "text/plain": [
       "War of the Worlds (2005)                  2\n",
       "Eros (2004)                               2\n",
       "Emma (1996)                               2\n",
       "Confessions of a Dangerous Mind (2002)    2\n",
       "Saturn 3 (1980)                           2\n",
       "                                         ..\n",
       "Educating Rita (1983)                     1\n",
       "Hombre (1967)                             1\n",
       "O Brother, Where Art Thou? (2000)         1\n",
       "High School Musical 2 (2007)              1\n",
       "Respiro (2002)                            1\n",
       "Name: title, Length: 9737, dtype: int64"
      ]
     },
     "execution_count": 23,
     "metadata": {},
     "output_type": "execute_result"
    }
   ],
   "source": [
    "movies['title'].value_counts()"
   ]
  },
  {
   "cell_type": "code",
   "execution_count": 24,
   "metadata": {},
   "outputs": [
    {
     "data": {
      "text/plain": [
       "Drama                                     1053\n",
       "Comedy                                     946\n",
       "Comedy|Drama                               435\n",
       "Comedy|Romance                             363\n",
       "Drama|Romance                              349\n",
       "                                          ... \n",
       "Action|Adventure|Children|Comedy|Crime       1\n",
       "Drama|Fantasy|Mystery|Thriller               1\n",
       "Animation|Children|Mystery                   1\n",
       "Action|Fantasy|Thriller|IMAX                 1\n",
       "Action|Adventure|Mystery|Sci-Fi              1\n",
       "Name: genres, Length: 951, dtype: int64"
      ]
     },
     "execution_count": 24,
     "metadata": {},
     "output_type": "execute_result"
    }
   ],
   "source": [
    "movies['genres'].value_counts()"
   ]
  },
  {
   "cell_type": "code",
   "execution_count": 25,
   "metadata": {},
   "outputs": [],
   "source": [
    "movies_and_ratings = pd.merge(movies, ratings, on ='movieId')"
   ]
  },
  {
   "cell_type": "code",
   "execution_count": 26,
   "metadata": {},
   "outputs": [
    {
     "data": {
      "text/html": [
       "<div>\n",
       "<style scoped>\n",
       "    .dataframe tbody tr th:only-of-type {\n",
       "        vertical-align: middle;\n",
       "    }\n",
       "\n",
       "    .dataframe tbody tr th {\n",
       "        vertical-align: top;\n",
       "    }\n",
       "\n",
       "    .dataframe thead th {\n",
       "        text-align: right;\n",
       "    }\n",
       "</style>\n",
       "<table border=\"1\" class=\"dataframe\">\n",
       "  <thead>\n",
       "    <tr style=\"text-align: right;\">\n",
       "      <th></th>\n",
       "      <th>movieId</th>\n",
       "      <th>title</th>\n",
       "      <th>genres</th>\n",
       "      <th>userId</th>\n",
       "      <th>rating</th>\n",
       "      <th>timestamp</th>\n",
       "    </tr>\n",
       "  </thead>\n",
       "  <tbody>\n",
       "    <tr>\n",
       "      <th>0</th>\n",
       "      <td>1</td>\n",
       "      <td>Toy Story (1995)</td>\n",
       "      <td>Adventure|Animation|Children|Comedy|Fantasy</td>\n",
       "      <td>1</td>\n",
       "      <td>4.0</td>\n",
       "      <td>964982703</td>\n",
       "    </tr>\n",
       "    <tr>\n",
       "      <th>1</th>\n",
       "      <td>1</td>\n",
       "      <td>Toy Story (1995)</td>\n",
       "      <td>Adventure|Animation|Children|Comedy|Fantasy</td>\n",
       "      <td>5</td>\n",
       "      <td>4.0</td>\n",
       "      <td>847434962</td>\n",
       "    </tr>\n",
       "    <tr>\n",
       "      <th>2</th>\n",
       "      <td>1</td>\n",
       "      <td>Toy Story (1995)</td>\n",
       "      <td>Adventure|Animation|Children|Comedy|Fantasy</td>\n",
       "      <td>7</td>\n",
       "      <td>4.5</td>\n",
       "      <td>1106635946</td>\n",
       "    </tr>\n",
       "    <tr>\n",
       "      <th>3</th>\n",
       "      <td>1</td>\n",
       "      <td>Toy Story (1995)</td>\n",
       "      <td>Adventure|Animation|Children|Comedy|Fantasy</td>\n",
       "      <td>15</td>\n",
       "      <td>2.5</td>\n",
       "      <td>1510577970</td>\n",
       "    </tr>\n",
       "    <tr>\n",
       "      <th>4</th>\n",
       "      <td>1</td>\n",
       "      <td>Toy Story (1995)</td>\n",
       "      <td>Adventure|Animation|Children|Comedy|Fantasy</td>\n",
       "      <td>17</td>\n",
       "      <td>4.5</td>\n",
       "      <td>1305696483</td>\n",
       "    </tr>\n",
       "  </tbody>\n",
       "</table>\n",
       "</div>"
      ],
      "text/plain": [
       "   movieId             title                                       genres  \\\n",
       "0        1  Toy Story (1995)  Adventure|Animation|Children|Comedy|Fantasy   \n",
       "1        1  Toy Story (1995)  Adventure|Animation|Children|Comedy|Fantasy   \n",
       "2        1  Toy Story (1995)  Adventure|Animation|Children|Comedy|Fantasy   \n",
       "3        1  Toy Story (1995)  Adventure|Animation|Children|Comedy|Fantasy   \n",
       "4        1  Toy Story (1995)  Adventure|Animation|Children|Comedy|Fantasy   \n",
       "\n",
       "   userId  rating   timestamp  \n",
       "0       1     4.0   964982703  \n",
       "1       5     4.0   847434962  \n",
       "2       7     4.5  1106635946  \n",
       "3      15     2.5  1510577970  \n",
       "4      17     4.5  1305696483  "
      ]
     },
     "execution_count": 26,
     "metadata": {},
     "output_type": "execute_result"
    }
   ],
   "source": [
    "movies_and_ratings.head()"
   ]
  },
  {
   "cell_type": "code",
   "execution_count": 27,
   "metadata": {},
   "outputs": [
    {
     "data": {
      "image/png": "[encoded data removed]",
      "text/plain": [
       "<Figure size 864x432 with 1 Axes>"
      ]
     },
     "metadata": {
      "needs_background": "light"
     },
     "output_type": "display_data"
    }
   ],
   "source": [
    "# Create a dictionary that will contain the genres appearing once and the total rating\n",
    "genres_dict = {}\n",
    "for _, row in movies_and_ratings.iterrows():\n",
    "    genres = row['genres']\n",
    "    rating = row['rating']\n",
    "    if genres in genres_dict:\n",
    "        genres_dict[genres] += rating\n",
    "    else:\n",
    "        genres_dict[genres] = rating\n",
    "        \n",
    "#sort the dictionary in descending order of ratings\n",
    "sorted_genres = sorted(genres_dict.items(), key=lambda x:x[1], reverse=True)\n",
    "# the output is a list of tuples\n",
    "\n",
    "# Extract the Top 10 Genres and plot them\n",
    "top_10_genres = sorted_genres[:10]\n",
    "genres, rating = zip(*top_10_genres)\n",
    "#using the zip function with * to unpack the tuples in the sorted list\n",
    "# allows us to separate the genres and ratings into separate lists\n",
    "\n",
    "#create a bar plot\n",
    "plt.figure(figsize=(12, 6))\n",
    "plt.bar(genres, rating)\n",
    "plt.xlabel('Genre')\n",
    "plt.ylabel('Ratings')\n",
    "plt.title('Top 10 Genres by Ratings')\n",
    "plt.xticks(rotation=45, ha='right')\n",
    "plt.tight_layout()\n",
    "plt.show()"
   ]
  },
  {
   "cell_type": "code",
   "execution_count": 28,
   "metadata": {},
   "outputs": [
    {
     "data": {
      "image/png": "[encoded data removed]",
      "text/plain": [
       "<Figure size 864x432 with 1 Axes>"
      ]
     },
     "metadata": {
      "needs_background": "light"
     },
     "output_type": "display_data"
    }
   ],
   "source": [
    "# Create a dictionary that will contain the movie title appearing once and the total rating\n",
    "movies_dict = {}\n",
    "for _, row in movies_and_ratings.iterrows():\n",
    "    movies = row['title']\n",
    "    rating = row['rating']\n",
    "    if movies in movies_dict:\n",
    "        movies_dict[movies] += rating\n",
    "    else:\n",
    "        movies_dict[movies] = rating\n",
    "        \n",
    "#sort the dictionary in descending order of ratings\n",
    "sorted_movies = sorted(movies_dict.items(), key=lambda x:x[1], reverse=True)\n",
    "# the output is a list of tuples\n",
    "\n",
    "# Extract the Top 10 movies and plot them\n",
    "top_10_movies = sorted_movies[:10]\n",
    "movies, rating = zip(*top_10_movies)\n",
    "#using the zip function with * to unpack the tuples in the sorted list\n",
    "# allows us to separate the movies and ratings into separate lists\n",
    "\n",
    "#create a bar plot\n",
    "plt.figure(figsize=(12, 6))\n",
    "plt.bar(movies, rating)\n",
    "plt.xlabel('Movie title')\n",
    "plt.ylabel('Ratings')\n",
    "plt.title('Top 10 Movies by Ratings')\n",
    "plt.xticks(rotation=45, ha='right')\n",
    "plt.tight_layout()\n",
    "plt.show()"
   ]
  },
  {
   "cell_type": "markdown",
   "metadata": {},
   "source": [
    "Let's parse the movie titles to extract the release year, which is enclosed within parentheses. We'll create a new column for the extracted years and remove them from the original title column."
   ]
  },
  {
   "cell_type": "code",
   "execution_count": 29,
   "metadata": {},
   "outputs": [
    {
     "name": "stdout",
     "output_type": "stream",
     "text": [
      "                                     title  Year\n",
      "0                                Toy Story  1995\n",
      "1                                Toy Story  1995\n",
      "2                                Toy Story  1995\n",
      "3                                Toy Story  1995\n",
      "4                                Toy Story  1995\n",
      "...                                    ...   ...\n",
      "100831  Black Butler: Book of the Atlantic  2017\n",
      "100832               No Game No Life: Zero  2017\n",
      "100833                               Flint  2017\n",
      "100834        Bungo Stray Dogs: Dead Apple  2018\n",
      "100835        Andrew Dice Clay: Dice Rules  1991\n",
      "\n",
      "[100836 rows x 2 columns]\n"
     ]
    }
   ],
   "source": [
    "# Extract years from titles within brackets using regular expressions\n",
    "years = movies_and_ratings['title'].str.extract(r'\\((\\d{4})\\)', expand=False)\n",
    "\n",
    "# Convert the extracted years to integers\n",
    "movies_and_ratings['Year'] = years.astype(float).astype(pd.Int64Dtype())\n",
    "\n",
    "# Remove the extracted years from the original title column\n",
    "movies_and_ratings['title'] = movies_and_ratings['title'].str.replace(r'\\s*\\(\\d{4}\\)', '', regex=True)\n",
    "\n",
    "# Displaying the DataFrame with movie titles and extracted years as integers\n",
    "print(movies_and_ratings[['title', 'Year']])\n"
   ]
  },
  {
   "cell_type": "markdown",
   "metadata": {},
   "source": [
    "To ascertain a potential relationship between a movie's release year and its average rating, we've computed the age of each movie by subtracting its release year from the current year. By correlating these movie ages with their respective average ratings, we aim to explore whether there's any connection between a movie's release time and the ratings it receives."
   ]
  },
  {
   "cell_type": "code",
   "execution_count": 30,
   "metadata": {},
   "outputs": [],
   "source": [
    "movies_and_ratings[\"Age\"] = 2023 - movies_and_ratings[\"Year\"]"
   ]
  },
  {
   "cell_type": "code",
   "execution_count": 31,
   "metadata": {
    "scrolled": true
   },
   "outputs": [
    {
     "data": {
      "text/plain": [
       "Age  title                                        \n",
       "5    A Quiet Place                                    2.750000\n",
       "     A Wrinkle in Time                                3.000000\n",
       "     Alpha                                            4.500000\n",
       "     Annihilation                                     3.833333\n",
       "     Ant-Man and the Wasp                             3.666667\n",
       "                                                        ...   \n",
       "107  Snow White                                       3.500000\n",
       "108  Birth of a Nation, The                           2.000000\n",
       "115  The Electric Hotel                               4.000000\n",
       "120  The Great Train Robbery                          2.500000\n",
       "121  Trip to the Moon, A (Voyage dans la lune, Le)    3.500000\n",
       "Name: rating, Length: 9706, dtype: float64"
      ]
     },
     "execution_count": 31,
     "metadata": {},
     "output_type": "execute_result"
    }
   ],
   "source": [
    "avg_rating_by_age = movies_and_ratings.groupby([\"Age\",\"title\"])[\"rating\"].mean()\n",
    "avg_rating_by_age"
   ]
  },
  {
   "cell_type": "code",
   "execution_count": 32,
   "metadata": {},
   "outputs": [
    {
     "data": {
      "image/png": "[encoded data removed]",
      "text/plain": [
       "<Figure size 720x432 with 1 Axes>"
      ]
     },
     "metadata": {
      "needs_background": "light"
     },
     "output_type": "display_data"
    }
   ],
   "source": [
    "# Reset the index to access 'Age' and 'Average Ratings' separately\n",
    "data_reset_index = avg_rating_by_age.reset_index()\n",
    "\n",
    "# Extract 'Age' and 'Average Ratings' for plotting\n",
    "age = data_reset_index['Age']\n",
    "avg_ratings = data_reset_index['rating']\n",
    "\n",
    "\n",
    "plt.figure(figsize=(10, 6))  \n",
    "plt.scatter(age,avg_ratings,color='skyblue')\n",
    "plt.title('Mean Ratings for Movie Titles within Different Age Groups')\n",
    "plt.ylabel('Mean Rating')  \n",
    "plt.xlabel('Age of the Movie')  \n",
    "plt.tight_layout()\n",
    "plt.show()"
   ]
  },
  {
   "cell_type": "markdown",
   "metadata": {},
   "source": [
    "The scatter plot reveals a distinct clustering pattern, showcasing average ratings predominantly within the range of 2 to 4.5 for movies aged from 0 to around 50 years. This suggests a tendency for recently released movies to accumulate ratings within this particular span. However, as movies surpass the 60-year mark, the clustering diminishes notably. This trend implies a shift in audience interest towards newer iterations or fresher content as movies age, leading to decreased clustering and diversity in ratings for older movies."
   ]
  },
  {
   "cell_type": "markdown",
   "metadata": {},
   "source": [
    "To explore the distribution of the ratings column and visualize the count of each rating, we'll create a bar graph that displays the count of ratings."
   ]
  },
  {
   "cell_type": "code",
   "execution_count": 33,
   "metadata": {},
   "outputs": [
    {
     "data": {
      "text/plain": [
       "array([4. , 4.5, 2.5, 3.5, 3. , 5. , 0.5, 2. , 1.5, 1. ])"
      ]
     },
     "execution_count": 33,
     "metadata": {},
     "output_type": "execute_result"
    }
   ],
   "source": [
    "# distribution of ratings\n",
    "movies_and_ratings.rating.unique()"
   ]
  },
  {
   "cell_type": "code",
   "execution_count": 34,
   "metadata": {},
   "outputs": [
    {
     "data": {
      "text/plain": [
       "title                               rating\n",
       "'71                                 4.0       4.0\n",
       "'Hellboy': The Seeds of Creation    4.0       4.0\n",
       "'Round Midnight                     3.5       3.5\n",
       "'Salem's Lot                        5.0       5.0\n",
       "'Til There Was You                  3.0       3.0\n",
       "                                             ... \n",
       "¡Three Amigos!                      3.0       3.0\n",
       "                                    3.5       3.5\n",
       "                                    4.0       4.0\n",
       "                                    5.0       5.0\n",
       "À nous la liberté (Freedom for Us)  1.0       1.0\n",
       "Name: rating, Length: 29959, dtype: float64"
      ]
     },
     "execution_count": 34,
     "metadata": {},
     "output_type": "execute_result"
    }
   ],
   "source": [
    "# group by movie title and find the average rating\n",
    "title_rating = movies_and_ratings.groupby([\"title\",\"rating\"])[\"rating\"].mean()\n",
    "title_rating"
   ]
  },
  {
   "cell_type": "code",
   "execution_count": 35,
   "metadata": {},
   "outputs": [
    {
     "data": {
      "image/png": "[encoded data removed]",
      "text/plain": [
       "<Figure size 720x432 with 1 Axes>"
      ]
     },
     "metadata": {
      "needs_background": "light"
     },
     "output_type": "display_data"
    }
   ],
   "source": [
    "# Group the data by rating and count the number of occurrences\n",
    "rating_counts = title_rating.groupby('rating').count()\n",
    "\n",
    "# Create a bar plot for the count of movies for each rating category\n",
    "plt.figure(figsize=(10, 6))\n",
    "rating_counts.plot(kind='bar', color='skyblue')\n",
    "plt.title('Count of Movies for Each Rating')\n",
    "plt.xlabel('Rating')\n",
    "plt.ylabel('Count')\n",
    "plt.xticks(rotation=45)\n",
    "plt.tight_layout()\n",
    "plt.show()\n"
   ]
  },
  {
   "cell_type": "markdown",
   "metadata": {},
   "source": [
    "Upon analyzing the visualization, it's evident that the majority of movies received ratings of 4 and 3. Conversely, a smaller number of movies were rated at 0.5, indicating that very few movies garnered such low ratings."
   ]
  },
  {
   "cell_type": "markdown",
   "metadata": {},
   "source": [
    "To illustrate the distribution of movies across different genres, we aim to display the count of movies within each genre category. This visualization provides insights into how movies are distributed across various genres, showcasing the frequency or occurrence of each genre in the dataset."
   ]
  },
  {
   "cell_type": "code",
   "execution_count": 36,
   "metadata": {},
   "outputs": [
    {
     "data": {
      "text/html": [
       "<div>\n",
       "<style scoped>\n",
       "    .dataframe tbody tr th:only-of-type {\n",
       "        vertical-align: middle;\n",
       "    }\n",
       "\n",
       "    .dataframe tbody tr th {\n",
       "        vertical-align: top;\n",
       "    }\n",
       "\n",
       "    .dataframe thead th {\n",
       "        text-align: right;\n",
       "    }\n",
       "</style>\n",
       "<table border=\"1\" class=\"dataframe\">\n",
       "  <thead>\n",
       "    <tr style=\"text-align: right;\">\n",
       "      <th></th>\n",
       "      <th></th>\n",
       "      <th>movieId</th>\n",
       "      <th>userId</th>\n",
       "      <th>rating</th>\n",
       "      <th>timestamp</th>\n",
       "      <th>Year</th>\n",
       "      <th>Age</th>\n",
       "    </tr>\n",
       "    <tr>\n",
       "      <th>genres</th>\n",
       "      <th>title</th>\n",
       "      <th></th>\n",
       "      <th></th>\n",
       "      <th></th>\n",
       "      <th></th>\n",
       "      <th></th>\n",
       "      <th></th>\n",
       "    </tr>\n",
       "  </thead>\n",
       "  <tbody>\n",
       "    <tr>\n",
       "      <th rowspan=\"5\" valign=\"top\">(no genres listed)</th>\n",
       "      <th>A Christmas Story Live!</th>\n",
       "      <td>182727</td>\n",
       "      <td>514</td>\n",
       "      <td>2.0</td>\n",
       "      <td>1536381035</td>\n",
       "      <td>2017</td>\n",
       "      <td>6</td>\n",
       "    </tr>\n",
       "    <tr>\n",
       "      <th>A Cosmic Christmas</th>\n",
       "      <td>149330</td>\n",
       "      <td>514</td>\n",
       "      <td>4.0</td>\n",
       "      <td>1535944005</td>\n",
       "      <td>1977</td>\n",
       "      <td>46</td>\n",
       "    </tr>\n",
       "    <tr>\n",
       "      <th>A Midsummer Night's Dream</th>\n",
       "      <td>159779</td>\n",
       "      <td>210</td>\n",
       "      <td>4.0</td>\n",
       "      <td>1530467762</td>\n",
       "      <td>2016</td>\n",
       "      <td>7</td>\n",
       "    </tr>\n",
       "    <tr>\n",
       "      <th>Ali Wong: Baby Cobra</th>\n",
       "      <td>159161</td>\n",
       "      <td>111</td>\n",
       "      <td>4.5</td>\n",
       "      <td>1517441228</td>\n",
       "      <td>2016</td>\n",
       "      <td>7</td>\n",
       "    </tr>\n",
       "    <tr>\n",
       "      <th>Ben-hur</th>\n",
       "      <td>122888</td>\n",
       "      <td>567</td>\n",
       "      <td>0.5</td>\n",
       "      <td>1525289924</td>\n",
       "      <td>2016</td>\n",
       "      <td>7</td>\n",
       "    </tr>\n",
       "    <tr>\n",
       "      <th>...</th>\n",
       "      <th>...</th>\n",
       "      <td>...</td>\n",
       "      <td>...</td>\n",
       "      <td>...</td>\n",
       "      <td>...</td>\n",
       "      <td>...</td>\n",
       "      <td>...</td>\n",
       "    </tr>\n",
       "    <tr>\n",
       "      <th rowspan=\"5\" valign=\"top\">Western</th>\n",
       "      <th>True Grit</th>\n",
       "      <td>2308852</td>\n",
       "      <td>9772</td>\n",
       "      <td>105.0</td>\n",
       "      <td>39201133401</td>\n",
       "      <td>56280</td>\n",
       "      <td>364</td>\n",
       "    </tr>\n",
       "    <tr>\n",
       "      <th>Wild Bill</th>\n",
       "      <td>840</td>\n",
       "      <td>1159</td>\n",
       "      <td>12.0</td>\n",
       "      <td>4348224981</td>\n",
       "      <td>7980</td>\n",
       "      <td>112</td>\n",
       "    </tr>\n",
       "    <tr>\n",
       "      <th>Winchester '73</th>\n",
       "      <td>6429</td>\n",
       "      <td>177</td>\n",
       "      <td>4.0</td>\n",
       "      <td>1435720464</td>\n",
       "      <td>1950</td>\n",
       "      <td>73</td>\n",
       "    </tr>\n",
       "    <tr>\n",
       "      <th>Winds of the Wasteland</th>\n",
       "      <td>70492</td>\n",
       "      <td>68</td>\n",
       "      <td>3.5</td>\n",
       "      <td>1346109885</td>\n",
       "      <td>1936</td>\n",
       "      <td>87</td>\n",
       "    </tr>\n",
       "    <tr>\n",
       "      <th>Wyatt Earp</th>\n",
       "      <td>8043</td>\n",
       "      <td>5402</td>\n",
       "      <td>65.0</td>\n",
       "      <td>20116171632</td>\n",
       "      <td>41874</td>\n",
       "      <td>609</td>\n",
       "    </tr>\n",
       "  </tbody>\n",
       "</table>\n",
       "<p>9683 rows × 6 columns</p>\n",
       "</div>"
      ],
      "text/plain": [
       "                                              movieId  userId  rating  \\\n",
       "genres             title                                                \n",
       "(no genres listed) A Christmas Story Live!     182727     514     2.0   \n",
       "                   A Cosmic Christmas          149330     514     4.0   \n",
       "                   A Midsummer Night's Dream   159779     210     4.0   \n",
       "                   Ali Wong: Baby Cobra        159161     111     4.5   \n",
       "                   Ben-hur                     122888     567     0.5   \n",
       "...                                               ...     ...     ...   \n",
       "Western            True Grit                  2308852    9772   105.0   \n",
       "                   Wild Bill                      840    1159    12.0   \n",
       "                   Winchester '73                6429     177     4.0   \n",
       "                   Winds of the Wasteland       70492      68     3.5   \n",
       "                   Wyatt Earp                    8043    5402    65.0   \n",
       "\n",
       "                                                timestamp   Year  Age  \n",
       "genres             title                                               \n",
       "(no genres listed) A Christmas Story Live!     1536381035   2017    6  \n",
       "                   A Cosmic Christmas          1535944005   1977   46  \n",
       "                   A Midsummer Night's Dream   1530467762   2016    7  \n",
       "                   Ali Wong: Baby Cobra        1517441228   2016    7  \n",
       "                   Ben-hur                     1525289924   2016    7  \n",
       "...                                                   ...    ...  ...  \n",
       "Western            True Grit                  39201133401  56280  364  \n",
       "                   Wild Bill                   4348224981   7980  112  \n",
       "                   Winchester '73              1435720464   1950   73  \n",
       "                   Winds of the Wasteland      1346109885   1936   87  \n",
       "                   Wyatt Earp                 20116171632  41874  609  \n",
       "\n",
       "[9683 rows x 6 columns]"
      ]
     },
     "execution_count": 36,
     "metadata": {},
     "output_type": "execute_result"
    }
   ],
   "source": [
    "genres_movie = movies_and_ratings.groupby([\"genres\",\"title\"]).sum()\n",
    "genres_movie"
   ]
  },
  {
   "cell_type": "code",
   "execution_count": 37,
   "metadata": {},
   "outputs": [
    {
     "data": {
      "image/png": "[encoded data removed]",
      "text/plain": [
       "<Figure size 864x432 with 1 Axes>"
      ]
     },
     "metadata": {
      "needs_background": "light"
     },
     "output_type": "display_data"
    }
   ],
   "source": [
    "genres_movie_reset_index = genres_movie.reset_index()\n",
    "\n",
    "genre_counts = genres_movie_reset_index[\"genres\"].value_counts().sort_values(ascending = False).head(10)\n",
    "\n",
    "plt.figure(figsize=(12, 6))\n",
    "genre_counts.plot(kind='bar', color='skyblue')\n",
    "plt.title('Number of Movies per Genre')\n",
    "plt.xlabel('Genres')\n",
    "plt.ylabel('Number of Movies')\n",
    "plt.xticks(rotation=45)\n",
    "plt.tight_layout()\n",
    "plt.show()\n"
   ]
  },
  {
   "cell_type": "markdown",
   "metadata": {},
   "source": [
    "The analysis highlights Drama as the genre with the most extensive count of movies in the dataset, followed closely by Comedy. Furthermore, Comedy appears consistently among the genres with the highest number of movies, maintaining a prominent presence across the top genres in terms of movie count."
   ]
  }
 ],
 "metadata": {
  "kernelspec": {
   "display_name": "Python 3",
   "language": "python",
   "name": "python3"
  },
  "language_info": {
   "codemirror_mode": {
    "name": "ipython",
    "version": 3
   },
   "file_extension": ".py",
   "mimetype": "text/x-python",
   "name": "python",
   "nbconvert_exporter": "python",
   "pygments_lexer": "ipython3",
   "version": "3.8.5"
  }
 },
 "nbformat": 4,
 "nbformat_minor": 4
}
