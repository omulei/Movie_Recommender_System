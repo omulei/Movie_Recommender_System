{
 "cells": [
  {
   "cell_type": "markdown",
   "metadata": {},
   "source": [
    "# Phase 4 Project: Movie Recommendation System\n",
    "---\n",
    "<div>\n",
    "<img src=\"images/Phase_4_Project.png\" width=\"400\">\n",
    "</div>\n",
    "\n",
    "---\n",
    "\n",
    "### Project Team: Group 2\n",
    "- **Rose Kyalo**\n",
    "- **Angel Linah Atungire**\n",
    "- **Oscar Mulei**\n",
    "\n",
    "#### Overview\n",
    "In the dynamic and rapidly evolving digital marketplace, recommendation systems play a pivotal role. They efficiently bridge the gap between users and a diverse array of products by analyzing user behaviors and preferences. These systems are integral in enhancing the shopping experience, providing personalized suggestions, and aiding sellers in effectively meeting customer requirements. This results in significant improvements in sales and customer satisfaction.\n",
    "\n",
    "#### Business Understanding\n",
    "The objective of this project is to develop a sophisticated movie recommendation system. This system will recommend the top five films based on user ratings. Employing collaborative filtering techniques, the system will analyze user preferences to offer tailored recommendations. The primary aim is to establish a recommender system, an artificial intelligence subset, designed to predict user preferences and suggest movies that align with these preferences. Collaborative filtering will be the key technique employed to ascertain user preferences accurately.\n",
    "\n",
    "#### Business Problem\n",
    "Company A, a leader in the movie production industry, is focused on optimizing its promotional strategies for its diverse film portfolio. The company has sought our expertise in engineering a robust movie recommendation system. This system is intended to deliver bespoke movie suggestions to its audience, thereby augmenting user engagement and supporting successful promotional campaigns.\n",
    "\n",
    "#### Objective\n",
    "The principal objective of this system is to analyze and understand user behaviors and preferences through their movie rating history. With this insight, the system will strive to:\n",
    "\n",
    "1. **Precision in Recommendations:** Develop an algorithm capable of accurately identifying and suggesting the top five movies based on user ratings. These recommendations should closely align with the individual preferences of each user.\n",
    "\n",
    "2. **Enhancement of User Engagement:** Create a recommendation system that significantly boosts user engagement. This will be achieved by delivering personalized movie suggestions, thereby increasing user interaction and the duration of user engagement on the platform.\n",
    "\n",
    "3. **Generation of Personalized Recommendations:** Formulate recommendations that are specifically tailored to align with each user's distinct interests.\n",
    "\n",
    "#### Data Source\n",
    "\n",
    "The data for this project will be sourced from the GroupLens Research Project, specifically the MovieLens dataset, available at [GroupLens](https://grouplens.org/datasets/movielens/latest/). This comprehensive dataset includes:\n",
    "\n",
    "- User ratings: A collection of movie ratings provided by users, which is the cornerstone of our collaborative filtering model.\n",
    "- Movie details: Information on various movies, including genres, release dates, and more, which aids in understanding the context of user preferences.\n",
    "- Links: References to other databases, which could be useful for enriching our dataset with additional movie information.\n",
    "- Tags: User-generated tags for movies, offering insights into the nuanced preferences of users.\n",
    "\n",
    "#### Development Steps\n",
    "\n",
    "1. **Data Collection & Preprocessing**\n",
    " - Acquire and clean the MovieLens dataset.\n",
    " - Address inconsistencies, anomalies, and missing values.\n",
    "\n",
    "2. **Exploratory Data Analysis (EDA)**\n",
    "   - Conduct statistical and visual analysis to identify patterns and trends.\n",
    "\n",
    "3. **Model Development: Building the Recommendation System**\n",
    "   - Analyze features and preferences to create content similarity-based recommendations.\n",
    "\n",
    "4. **Model Development: Interactive Recommendation Widget**\n",
    "   - To enhance user engagement and provide a user-friendly interface, we will create an interactive recommendation widget. Users can enter a movie title, and the widget will display recommended movies based on their preferences.\n",
    "\n",
    "5. **Model Evaluation & Refinement**\n",
    "   - Assess the model using accuracy, precision, and recall."
   ]
  },
  {
   "cell_type": "markdown",
   "metadata": {},
   "source": [
    "---\n",
    "### Data Collection and Preprocessing"
   ]
  },
  {
   "cell_type": "code",
   "execution_count": 1,
   "metadata": {},
   "outputs": [],
   "source": [
    "# Imported Libraries: Imported necessary Python libraries for data manipulation, analysis, and visualization.\n",
    "\n",
    "import pandas as pd           # Library for data manipulation and analysis\n",
    "import numpy as np            # Library for numerical computations\n",
    "import matplotlib.pyplot as plt  # Library for creating data visualizations\n",
    "import seaborn as sns         # Data visualization library built on top of Matplotlib\n",
    "import scipy.stats as stats   # Library for statistical analysis\n",
    "import sklearn                # Library for machine learning and data mining\n",
    "from sklearn.feature_extraction.text import TfidfVectorizer  # Text vectorization for NLP tasks\n",
    "from sklearn.metrics.pairwise import cosine_similarity       # Calculating cosine similarity between vectors\n",
    "import ipywidgets as widgets  # Library for creating interactive widgets in Jupyter notebooks\n",
    "from IPython.display import display  # Displaying interactive widgets in Jupyter notebooks"
   ]
  },
  {
   "cell_type": "code",
   "execution_count": 2,
   "metadata": {
    "scrolled": true
   },
   "outputs": [
    {
     "data": {
      "text/plain": [
       "(   movieId  imdbId   tmdbId\n",
       " 0        1  114709    862.0\n",
       " 1        2  113497   8844.0\n",
       " 2        3  113228  15602.0\n",
       " 3        4  114885  31357.0\n",
       " 4        5  113041  11862.0,\n",
       "    userId  movieId              tag   timestamp\n",
       " 0       2    60756            funny  1445714994\n",
       " 1       2    60756  Highly quotable  1445714996\n",
       " 2       2    60756     will ferrell  1445714992\n",
       " 3       2    89774     Boxing story  1445715207\n",
       " 4       2    89774              MMA  1445715200,\n",
       "    userId  movieId  rating  timestamp\n",
       " 0       1        1     4.0  964982703\n",
       " 1       1        3     4.0  964981247\n",
       " 2       1        6     4.0  964982224\n",
       " 3       1       47     5.0  964983815\n",
       " 4       1       50     5.0  964982931,\n",
       "    movieId                               title  \\\n",
       " 0        1                    Toy Story (1995)   \n",
       " 1        2                      Jumanji (1995)   \n",
       " 2        3             Grumpier Old Men (1995)   \n",
       " 3        4            Waiting to Exhale (1995)   \n",
       " 4        5  Father of the Bride Part II (1995)   \n",
       " \n",
       "                                         genres  \n",
       " 0  Adventure|Animation|Children|Comedy|Fantasy  \n",
       " 1                   Adventure|Children|Fantasy  \n",
       " 2                               Comedy|Romance  \n",
       " 3                         Comedy|Drama|Romance  \n",
       " 4                                       Comedy  )"
      ]
     },
     "execution_count": 2,
     "metadata": {},
     "output_type": "execute_result"
    }
   ],
   "source": [
    "# Data Loading: Loaded four datasets into DataFrames: links.csv, tags.csv, ratings.csv, and movies.csv.\n",
    "\n",
    "links = pd.read_csv(\"Data/links.csv\")\n",
    "tags = pd.read_csv(\"Data/tags.csv\")\n",
    "ratings = pd.read_csv(\"Data/ratings.csv\") # Dataset used to build the recommendation system\n",
    "movies = pd.read_csv(\"Data/movies.csv\") # # Dataset used to build the movies search engine \n",
    "\n",
    "# Display the first few rows of each dataframe to understand their structure\n",
    "(links.head(), tags.head(), ratings.head(), movies.head())"
   ]
  },
  {
   "cell_type": "code",
   "execution_count": 3,
   "metadata": {
    "scrolled": true
   },
   "outputs": [
    {
     "name": "stdout",
     "output_type": "stream",
     "text": [
      "Movies DataFrame Info:\n",
      "<class 'pandas.core.frame.DataFrame'>\n",
      "RangeIndex: 9742 entries, 0 to 9741\n",
      "Data columns (total 3 columns):\n",
      " #   Column   Non-Null Count  Dtype \n",
      "---  ------   --------------  ----- \n",
      " 0   movieId  9742 non-null   int64 \n",
      " 1   title    9742 non-null   object\n",
      " 2   genres   9742 non-null   object\n",
      "dtypes: int64(1), object(2)\n",
      "memory usage: 228.5+ KB\n",
      "\n",
      "Ratings DataFrame Info:\n",
      "<class 'pandas.core.frame.DataFrame'>\n",
      "RangeIndex: 100836 entries, 0 to 100835\n",
      "Data columns (total 4 columns):\n",
      " #   Column     Non-Null Count   Dtype  \n",
      "---  ------     --------------   -----  \n",
      " 0   userId     100836 non-null  int64  \n",
      " 1   movieId    100836 non-null  int64  \n",
      " 2   rating     100836 non-null  float64\n",
      " 3   timestamp  100836 non-null  int64  \n",
      "dtypes: float64(1), int64(3)\n",
      "memory usage: 3.1 MB\n",
      "\n",
      "Links DataFrame Info:\n",
      "<class 'pandas.core.frame.DataFrame'>\n",
      "RangeIndex: 9742 entries, 0 to 9741\n",
      "Data columns (total 3 columns):\n",
      " #   Column   Non-Null Count  Dtype  \n",
      "---  ------   --------------  -----  \n",
      " 0   movieId  9742 non-null   int64  \n",
      " 1   imdbId   9742 non-null   int64  \n",
      " 2   tmdbId   9734 non-null   float64\n",
      "dtypes: float64(1), int64(2)\n",
      "memory usage: 228.5 KB\n",
      "\n",
      "Tags DataFrame Info:\n",
      "<class 'pandas.core.frame.DataFrame'>\n",
      "RangeIndex: 3683 entries, 0 to 3682\n",
      "Data columns (total 4 columns):\n",
      " #   Column     Non-Null Count  Dtype \n",
      "---  ------     --------------  ----- \n",
      " 0   userId     3683 non-null   int64 \n",
      " 1   movieId    3683 non-null   int64 \n",
      " 2   tag        3683 non-null   object\n",
      " 3   timestamp  3683 non-null   int64 \n",
      "dtypes: int64(3), object(1)\n",
      "memory usage: 115.2+ KB\n"
     ]
    }
   ],
   "source": [
    "# Data Types Verificatio: \n",
    "print(\"Movies DataFrame Info:\")\n",
    "movies.info()\n",
    "\n",
    "print(\"\\nRatings DataFrame Info:\")\n",
    "ratings.info()\n",
    "\n",
    "print(\"\\nLinks DataFrame Info:\")\n",
    "links.info()\n",
    "\n",
    "print(\"\\nTags DataFrame Info:\")\n",
    "tags.info()\n"
   ]
  },
  {
   "cell_type": "code",
   "execution_count": 4,
   "metadata": {
    "scrolled": false
   },
   "outputs": [
    {
     "data": {
      "text/plain": [
       "{'ratings.csv': userId                int64\n",
       " movieId               int64\n",
       " rating              float64\n",
       " timestamp    datetime64[ns]\n",
       " dtype: object,\n",
       " 'tags.csv': userId                int64\n",
       " movieId               int64\n",
       " tag                  object\n",
       " timestamp    datetime64[ns]\n",
       " dtype: object}"
      ]
     },
     "execution_count": 4,
     "metadata": {},
     "output_type": "execute_result"
    }
   ],
   "source": [
    "# Timestamp Conversion:Convert timestamp columns in `ratings.csv` and `tags.csv` to a more readable date-time format.\n",
    "# Convert timestamp to datetime in ratings.csv and tags.csv\n",
    "\n",
    "ratings['timestamp'] = pd.to_datetime(ratings['timestamp'], unit='s')\n",
    "tags['timestamp'] = pd.to_datetime(tags['timestamp'], unit='s')\n",
    "\n",
    "# Display the updated data types for these two datasets\n",
    "updated_data_types = {\n",
    "    \"ratings.csv\": ratings.dtypes,\n",
    "    \"tags.csv\": tags.dtypes\n",
    "}\n",
    "\n",
    "updated_data_types"
   ]
  },
  {
   "cell_type": "code",
   "execution_count": 5,
   "metadata": {
    "scrolled": true
   },
   "outputs": [
    {
     "name": "stdout",
     "output_type": "stream",
     "text": [
      "Missing Values in Movies DataFrame:\n",
      "movieId    0\n",
      "title      0\n",
      "genres     0\n",
      "dtype: int64\n",
      "\n",
      "Missing Values in Ratings DataFrame:\n",
      "userId       0\n",
      "movieId      0\n",
      "rating       0\n",
      "timestamp    0\n",
      "dtype: int64\n",
      "\n",
      "Missing Values in Links DataFrame:\n",
      "movieId    0\n",
      "imdbId     0\n",
      "tmdbId     8\n",
      "dtype: int64\n",
      "\n",
      "Missing Values in Tags DataFrame:\n",
      "userId       0\n",
      "movieId      0\n",
      "tag          0\n",
      "timestamp    0\n",
      "dtype: int64\n"
     ]
    }
   ],
   "source": [
    "# Missing Values Check:\n",
    "\n",
    "print(\"Missing Values in Movies DataFrame:\")\n",
    "print(movies.isnull().sum())\n",
    "\n",
    "print(\"\\nMissing Values in Ratings DataFrame:\")\n",
    "print(ratings.isnull().sum())\n",
    "\n",
    "print(\"\\nMissing Values in Links DataFrame:\")\n",
    "print(links.isnull().sum())\n",
    "\n",
    "print(\"\\nMissing Values in Tags DataFrame:\")\n",
    "print(tags.isnull().sum())"
   ]
  },
  {
   "cell_type": "code",
   "execution_count": 6,
   "metadata": {},
   "outputs": [],
   "source": [
    "# Handling Missing Values:Removed rows with missing data in the tmdbId column of the links.csv dataset, since it is only 0.082% of the data.\n",
    "links.dropna(inplace=True)"
   ]
  },
  {
   "cell_type": "code",
   "execution_count": 7,
   "metadata": {},
   "outputs": [
    {
     "data": {
      "text/plain": [
       "{'movies.csv': 0, 'ratings.csv': 0, 'tags.csv': 0, 'links.csv': 0}"
      ]
     },
     "execution_count": 7,
     "metadata": {},
     "output_type": "execute_result"
    }
   ],
   "source": [
    "# Check for duplicates in each dataset\n",
    "duplicates = {\n",
    "    \"movies.csv\": movies.duplicated().sum(),\n",
    "    \"ratings.csv\": ratings.duplicated().sum(),\n",
    "    \"tags.csv\": tags.duplicated().sum(),\n",
    "    \"links.csv\": links.duplicated().sum()\n",
    "}\n",
    "\n",
    "duplicates"
   ]
  },
  {
   "cell_type": "code",
   "execution_count": 8,
   "metadata": {
    "scrolled": true
   },
   "outputs": [
    {
     "data": {
      "text/html": [
       "<div>\n",
       "<style scoped>\n",
       "    .dataframe tbody tr th:only-of-type {\n",
       "        vertical-align: middle;\n",
       "    }\n",
       "\n",
       "    .dataframe tbody tr th {\n",
       "        vertical-align: top;\n",
       "    }\n",
       "\n",
       "    .dataframe thead th {\n",
       "        text-align: right;\n",
       "    }\n",
       "</style>\n",
       "<table border=\"1\" class=\"dataframe\">\n",
       "  <thead>\n",
       "    <tr style=\"text-align: right;\">\n",
       "      <th></th>\n",
       "      <th>movieId</th>\n",
       "      <th>title</th>\n",
       "      <th>genres</th>\n",
       "    </tr>\n",
       "  </thead>\n",
       "  <tbody>\n",
       "    <tr>\n",
       "      <th>0</th>\n",
       "      <td>1</td>\n",
       "      <td>Toy Story (1995)</td>\n",
       "      <td>[Adventure, Animation, Children, Comedy, Fantasy]</td>\n",
       "    </tr>\n",
       "    <tr>\n",
       "      <th>1</th>\n",
       "      <td>2</td>\n",
       "      <td>Jumanji (1995)</td>\n",
       "      <td>[Adventure, Children, Fantasy]</td>\n",
       "    </tr>\n",
       "    <tr>\n",
       "      <th>2</th>\n",
       "      <td>3</td>\n",
       "      <td>Grumpier Old Men (1995)</td>\n",
       "      <td>[Comedy, Romance]</td>\n",
       "    </tr>\n",
       "    <tr>\n",
       "      <th>3</th>\n",
       "      <td>4</td>\n",
       "      <td>Waiting to Exhale (1995)</td>\n",
       "      <td>[Comedy, Drama, Romance]</td>\n",
       "    </tr>\n",
       "    <tr>\n",
       "      <th>4</th>\n",
       "      <td>5</td>\n",
       "      <td>Father of the Bride Part II (1995)</td>\n",
       "      <td>[Comedy]</td>\n",
       "    </tr>\n",
       "    <tr>\n",
       "      <th>...</th>\n",
       "      <td>...</td>\n",
       "      <td>...</td>\n",
       "      <td>...</td>\n",
       "    </tr>\n",
       "    <tr>\n",
       "      <th>9737</th>\n",
       "      <td>193581</td>\n",
       "      <td>Black Butler: Book of the Atlantic (2017)</td>\n",
       "      <td>[Action, Animation, Comedy, Fantasy]</td>\n",
       "    </tr>\n",
       "    <tr>\n",
       "      <th>9738</th>\n",
       "      <td>193583</td>\n",
       "      <td>No Game No Life: Zero (2017)</td>\n",
       "      <td>[Animation, Comedy, Fantasy]</td>\n",
       "    </tr>\n",
       "    <tr>\n",
       "      <th>9739</th>\n",
       "      <td>193585</td>\n",
       "      <td>Flint (2017)</td>\n",
       "      <td>[Drama]</td>\n",
       "    </tr>\n",
       "    <tr>\n",
       "      <th>9740</th>\n",
       "      <td>193587</td>\n",
       "      <td>Bungo Stray Dogs: Dead Apple (2018)</td>\n",
       "      <td>[Action, Animation]</td>\n",
       "    </tr>\n",
       "    <tr>\n",
       "      <th>9741</th>\n",
       "      <td>193609</td>\n",
       "      <td>Andrew Dice Clay: Dice Rules (1991)</td>\n",
       "      <td>[Comedy]</td>\n",
       "    </tr>\n",
       "  </tbody>\n",
       "</table>\n",
       "<p>9742 rows × 3 columns</p>\n",
       "</div>"
      ],
      "text/plain": [
       "      movieId                                      title  \\\n",
       "0           1                           Toy Story (1995)   \n",
       "1           2                             Jumanji (1995)   \n",
       "2           3                    Grumpier Old Men (1995)   \n",
       "3           4                   Waiting to Exhale (1995)   \n",
       "4           5         Father of the Bride Part II (1995)   \n",
       "...       ...                                        ...   \n",
       "9737   193581  Black Butler: Book of the Atlantic (2017)   \n",
       "9738   193583               No Game No Life: Zero (2017)   \n",
       "9739   193585                               Flint (2017)   \n",
       "9740   193587        Bungo Stray Dogs: Dead Apple (2018)   \n",
       "9741   193609        Andrew Dice Clay: Dice Rules (1991)   \n",
       "\n",
       "                                                 genres  \n",
       "0     [Adventure, Animation, Children, Comedy, Fantasy]  \n",
       "1                        [Adventure, Children, Fantasy]  \n",
       "2                                     [Comedy, Romance]  \n",
       "3                              [Comedy, Drama, Romance]  \n",
       "4                                              [Comedy]  \n",
       "...                                                 ...  \n",
       "9737               [Action, Animation, Comedy, Fantasy]  \n",
       "9738                       [Animation, Comedy, Fantasy]  \n",
       "9739                                            [Drama]  \n",
       "9740                                [Action, Animation]  \n",
       "9741                                           [Comedy]  \n",
       "\n",
       "[9742 rows x 3 columns]"
      ]
     },
     "execution_count": 8,
     "metadata": {},
     "output_type": "execute_result"
    }
   ],
   "source": [
    "# Genre Processing: Split the genres in the `movies.csv` dataset into lists for easier analysis\n",
    "\n",
    "movies['genres'] = movies['genres'].apply(lambda x: x.split('|'))\n",
    "movies"
   ]
  },
  {
   "cell_type": "code",
   "execution_count": 9,
   "metadata": {},
   "outputs": [],
   "source": [
    "# Title Cleaning: Clean movie titles in the movies.csv dataset using regular expressions.\n",
    "\n",
    "import re\n",
    "\n",
    "# Define a function to clean a movie title.\n",
    "def clean_title(title):\n",
    "    # Use regular expression substitution to remove characters that are not letters, digits, or spaces.\n",
    "    title = re.sub(\"[^a-zA-Z0-9 ]\", \"\", title)\n",
    "    # Return the cleaned title.\n",
    "    return title"
   ]
  },
  {
   "cell_type": "code",
   "execution_count": 10,
   "metadata": {},
   "outputs": [],
   "source": [
    "movies[\"clean_title\"] = movies[\"title\"].apply(clean_title)"
   ]
  },
  {
   "cell_type": "code",
   "execution_count": 11,
   "metadata": {},
   "outputs": [
    {
     "data": {
      "text/html": [
       "<div>\n",
       "<style scoped>\n",
       "    .dataframe tbody tr th:only-of-type {\n",
       "        vertical-align: middle;\n",
       "    }\n",
       "\n",
       "    .dataframe tbody tr th {\n",
       "        vertical-align: top;\n",
       "    }\n",
       "\n",
       "    .dataframe thead th {\n",
       "        text-align: right;\n",
       "    }\n",
       "</style>\n",
       "<table border=\"1\" class=\"dataframe\">\n",
       "  <thead>\n",
       "    <tr style=\"text-align: right;\">\n",
       "      <th></th>\n",
       "      <th>movieId</th>\n",
       "      <th>title</th>\n",
       "      <th>genres</th>\n",
       "      <th>clean_title</th>\n",
       "    </tr>\n",
       "  </thead>\n",
       "  <tbody>\n",
       "    <tr>\n",
       "      <th>0</th>\n",
       "      <td>1</td>\n",
       "      <td>Toy Story (1995)</td>\n",
       "      <td>[Adventure, Animation, Children, Comedy, Fantasy]</td>\n",
       "      <td>Toy Story 1995</td>\n",
       "    </tr>\n",
       "    <tr>\n",
       "      <th>1</th>\n",
       "      <td>2</td>\n",
       "      <td>Jumanji (1995)</td>\n",
       "      <td>[Adventure, Children, Fantasy]</td>\n",
       "      <td>Jumanji 1995</td>\n",
       "    </tr>\n",
       "    <tr>\n",
       "      <th>2</th>\n",
       "      <td>3</td>\n",
       "      <td>Grumpier Old Men (1995)</td>\n",
       "      <td>[Comedy, Romance]</td>\n",
       "      <td>Grumpier Old Men 1995</td>\n",
       "    </tr>\n",
       "    <tr>\n",
       "      <th>3</th>\n",
       "      <td>4</td>\n",
       "      <td>Waiting to Exhale (1995)</td>\n",
       "      <td>[Comedy, Drama, Romance]</td>\n",
       "      <td>Waiting to Exhale 1995</td>\n",
       "    </tr>\n",
       "    <tr>\n",
       "      <th>4</th>\n",
       "      <td>5</td>\n",
       "      <td>Father of the Bride Part II (1995)</td>\n",
       "      <td>[Comedy]</td>\n",
       "      <td>Father of the Bride Part II 1995</td>\n",
       "    </tr>\n",
       "    <tr>\n",
       "      <th>...</th>\n",
       "      <td>...</td>\n",
       "      <td>...</td>\n",
       "      <td>...</td>\n",
       "      <td>...</td>\n",
       "    </tr>\n",
       "    <tr>\n",
       "      <th>9737</th>\n",
       "      <td>193581</td>\n",
       "      <td>Black Butler: Book of the Atlantic (2017)</td>\n",
       "      <td>[Action, Animation, Comedy, Fantasy]</td>\n",
       "      <td>Black Butler Book of the Atlantic 2017</td>\n",
       "    </tr>\n",
       "    <tr>\n",
       "      <th>9738</th>\n",
       "      <td>193583</td>\n",
       "      <td>No Game No Life: Zero (2017)</td>\n",
       "      <td>[Animation, Comedy, Fantasy]</td>\n",
       "      <td>No Game No Life Zero 2017</td>\n",
       "    </tr>\n",
       "    <tr>\n",
       "      <th>9739</th>\n",
       "      <td>193585</td>\n",
       "      <td>Flint (2017)</td>\n",
       "      <td>[Drama]</td>\n",
       "      <td>Flint 2017</td>\n",
       "    </tr>\n",
       "    <tr>\n",
       "      <th>9740</th>\n",
       "      <td>193587</td>\n",
       "      <td>Bungo Stray Dogs: Dead Apple (2018)</td>\n",
       "      <td>[Action, Animation]</td>\n",
       "      <td>Bungo Stray Dogs Dead Apple 2018</td>\n",
       "    </tr>\n",
       "    <tr>\n",
       "      <th>9741</th>\n",
       "      <td>193609</td>\n",
       "      <td>Andrew Dice Clay: Dice Rules (1991)</td>\n",
       "      <td>[Comedy]</td>\n",
       "      <td>Andrew Dice Clay Dice Rules 1991</td>\n",
       "    </tr>\n",
       "  </tbody>\n",
       "</table>\n",
       "<p>9742 rows × 4 columns</p>\n",
       "</div>"
      ],
      "text/plain": [
       "      movieId                                      title  \\\n",
       "0           1                           Toy Story (1995)   \n",
       "1           2                             Jumanji (1995)   \n",
       "2           3                    Grumpier Old Men (1995)   \n",
       "3           4                   Waiting to Exhale (1995)   \n",
       "4           5         Father of the Bride Part II (1995)   \n",
       "...       ...                                        ...   \n",
       "9737   193581  Black Butler: Book of the Atlantic (2017)   \n",
       "9738   193583               No Game No Life: Zero (2017)   \n",
       "9739   193585                               Flint (2017)   \n",
       "9740   193587        Bungo Stray Dogs: Dead Apple (2018)   \n",
       "9741   193609        Andrew Dice Clay: Dice Rules (1991)   \n",
       "\n",
       "                                                 genres  \\\n",
       "0     [Adventure, Animation, Children, Comedy, Fantasy]   \n",
       "1                        [Adventure, Children, Fantasy]   \n",
       "2                                     [Comedy, Romance]   \n",
       "3                              [Comedy, Drama, Romance]   \n",
       "4                                              [Comedy]   \n",
       "...                                                 ...   \n",
       "9737               [Action, Animation, Comedy, Fantasy]   \n",
       "9738                       [Animation, Comedy, Fantasy]   \n",
       "9739                                            [Drama]   \n",
       "9740                                [Action, Animation]   \n",
       "9741                                           [Comedy]   \n",
       "\n",
       "                                 clean_title  \n",
       "0                             Toy Story 1995  \n",
       "1                               Jumanji 1995  \n",
       "2                      Grumpier Old Men 1995  \n",
       "3                     Waiting to Exhale 1995  \n",
       "4           Father of the Bride Part II 1995  \n",
       "...                                      ...  \n",
       "9737  Black Butler Book of the Atlantic 2017  \n",
       "9738               No Game No Life Zero 2017  \n",
       "9739                              Flint 2017  \n",
       "9740        Bungo Stray Dogs Dead Apple 2018  \n",
       "9741        Andrew Dice Clay Dice Rules 1991  \n",
       "\n",
       "[9742 rows x 4 columns]"
      ]
     },
     "execution_count": 11,
     "metadata": {},
     "output_type": "execute_result"
    }
   ],
   "source": [
    "movies"
   ]
  },
  {
   "cell_type": "markdown",
   "metadata": {},
   "source": [
    "---\n",
    "### Exploratory Data Analysis (EDA)\n",
    "\n",
    "In this phase, we'll explore the datasets to gain insights that can guide our model development. We'll look at the distribution of ratings, the number of movies and users, and conduct a genre analysis."
   ]
  },
  {
   "cell_type": "code",
   "execution_count": 12,
   "metadata": {},
   "outputs": [],
   "source": [
    "movies_and_ratings = pd.merge(ratings, movies, on ='movieId')"
   ]
  },
  {
   "cell_type": "code",
   "execution_count": 13,
   "metadata": {
    "scrolled": true
   },
   "outputs": [
    {
     "data": {
      "text/html": [
       "<div>\n",
       "<style scoped>\n",
       "    .dataframe tbody tr th:only-of-type {\n",
       "        vertical-align: middle;\n",
       "    }\n",
       "\n",
       "    .dataframe tbody tr th {\n",
       "        vertical-align: top;\n",
       "    }\n",
       "\n",
       "    .dataframe thead th {\n",
       "        text-align: right;\n",
       "    }\n",
       "</style>\n",
       "<table border=\"1\" class=\"dataframe\">\n",
       "  <thead>\n",
       "    <tr style=\"text-align: right;\">\n",
       "      <th></th>\n",
       "      <th>userId</th>\n",
       "      <th>movieId</th>\n",
       "      <th>rating</th>\n",
       "      <th>timestamp</th>\n",
       "      <th>title</th>\n",
       "      <th>genres</th>\n",
       "      <th>clean_title</th>\n",
       "    </tr>\n",
       "  </thead>\n",
       "  <tbody>\n",
       "    <tr>\n",
       "      <th>0</th>\n",
       "      <td>1</td>\n",
       "      <td>1</td>\n",
       "      <td>4.0</td>\n",
       "      <td>2000-07-30 18:45:03</td>\n",
       "      <td>Toy Story (1995)</td>\n",
       "      <td>[Adventure, Animation, Children, Comedy, Fantasy]</td>\n",
       "      <td>Toy Story 1995</td>\n",
       "    </tr>\n",
       "    <tr>\n",
       "      <th>1</th>\n",
       "      <td>5</td>\n",
       "      <td>1</td>\n",
       "      <td>4.0</td>\n",
       "      <td>1996-11-08 06:36:02</td>\n",
       "      <td>Toy Story (1995)</td>\n",
       "      <td>[Adventure, Animation, Children, Comedy, Fantasy]</td>\n",
       "      <td>Toy Story 1995</td>\n",
       "    </tr>\n",
       "    <tr>\n",
       "      <th>2</th>\n",
       "      <td>7</td>\n",
       "      <td>1</td>\n",
       "      <td>4.5</td>\n",
       "      <td>2005-01-25 06:52:26</td>\n",
       "      <td>Toy Story (1995)</td>\n",
       "      <td>[Adventure, Animation, Children, Comedy, Fantasy]</td>\n",
       "      <td>Toy Story 1995</td>\n",
       "    </tr>\n",
       "    <tr>\n",
       "      <th>3</th>\n",
       "      <td>15</td>\n",
       "      <td>1</td>\n",
       "      <td>2.5</td>\n",
       "      <td>2017-11-13 12:59:30</td>\n",
       "      <td>Toy Story (1995)</td>\n",
       "      <td>[Adventure, Animation, Children, Comedy, Fantasy]</td>\n",
       "      <td>Toy Story 1995</td>\n",
       "    </tr>\n",
       "    <tr>\n",
       "      <th>4</th>\n",
       "      <td>17</td>\n",
       "      <td>1</td>\n",
       "      <td>4.5</td>\n",
       "      <td>2011-05-18 05:28:03</td>\n",
       "      <td>Toy Story (1995)</td>\n",
       "      <td>[Adventure, Animation, Children, Comedy, Fantasy]</td>\n",
       "      <td>Toy Story 1995</td>\n",
       "    </tr>\n",
       "  </tbody>\n",
       "</table>\n",
       "</div>"
      ],
      "text/plain": [
       "   userId  movieId  rating           timestamp             title  \\\n",
       "0       1        1     4.0 2000-07-30 18:45:03  Toy Story (1995)   \n",
       "1       5        1     4.0 1996-11-08 06:36:02  Toy Story (1995)   \n",
       "2       7        1     4.5 2005-01-25 06:52:26  Toy Story (1995)   \n",
       "3      15        1     2.5 2017-11-13 12:59:30  Toy Story (1995)   \n",
       "4      17        1     4.5 2011-05-18 05:28:03  Toy Story (1995)   \n",
       "\n",
       "                                              genres     clean_title  \n",
       "0  [Adventure, Animation, Children, Comedy, Fantasy]  Toy Story 1995  \n",
       "1  [Adventure, Animation, Children, Comedy, Fantasy]  Toy Story 1995  \n",
       "2  [Adventure, Animation, Children, Comedy, Fantasy]  Toy Story 1995  \n",
       "3  [Adventure, Animation, Children, Comedy, Fantasy]  Toy Story 1995  \n",
       "4  [Adventure, Animation, Children, Comedy, Fantasy]  Toy Story 1995  "
      ]
     },
     "execution_count": 13,
     "metadata": {},
     "output_type": "execute_result"
    }
   ],
   "source": [
    "movies_and_ratings.head()"
   ]
  },
  {
   "cell_type": "code",
   "execution_count": 14,
   "metadata": {},
   "outputs": [
    {
     "data": {
      "image/png": "[encoded data removed]",
      "text/plain": [
       "<Figure size 720x432 with 1 Axes>"
      ]
     },
     "metadata": {
      "needs_background": "light"
     },
     "output_type": "display_data"
    },
    {
     "data": {
      "image/png": "[encoded data removed]",
      "text/plain": [
       "<Figure size 864x576 with 1 Axes>"
      ]
     },
     "metadata": {
      "needs_background": "light"
     },
     "output_type": "display_data"
    },
    {
     "data": {
      "text/plain": [
       "(610,\n",
       " 9724,\n",
       " Drama        4361\n",
       " Comedy       3756\n",
       " Thriller     1894\n",
       " Action       1828\n",
       " Romance      1596\n",
       " Adventure    1263\n",
       " Crime        1199\n",
       " Sci-Fi        980\n",
       " Horror        978\n",
       " Fantasy       779\n",
       " Name: genre, dtype: int64)"
      ]
     },
     "execution_count": 14,
     "metadata": {},
     "output_type": "execute_result"
    }
   ],
   "source": [
    "# Exploratory Data Analysis\n",
    "\n",
    "# Analysis of ratings distribution\n",
    "plt.figure(figsize=(10, 6))\n",
    "sns.countplot(x='rating', data=ratings)\n",
    "plt.title('Distribution of Ratings')\n",
    "plt.xlabel('Rating')\n",
    "plt.ylabel('Count')\n",
    "plt.show()\n",
    "\n",
    "# Number of unique users and movies\n",
    "num_users = ratings['userId'].nunique()\n",
    "num_movies = ratings['movieId'].nunique()\n",
    "\n",
    "# Analysis of genre distribution\n",
    "all_genres = sum(movies['genres'], [])\n",
    "genres_df = pd.DataFrame(all_genres, columns=['genre'])\n",
    "genre_counts = genres_df['genre'].value_counts()\n",
    "\n",
    "plt.figure(figsize=(12, 8))\n",
    "sns.barplot(x=genre_counts, y=genre_counts.index)\n",
    "plt.title('Distribution of Movie Genres')\n",
    "plt.xlabel('Count')\n",
    "plt.ylabel('Genre')\n",
    "plt.show()\n",
    "\n",
    "num_users, num_movies, genre_counts.head(10)"
   ]
  },
  {
   "cell_type": "markdown",
   "metadata": {},
   "source": [
    "#### Exploratory Data Analysis (EDA) Summary\n",
    "\n",
    "###### Ratings Distribution\n",
    "- Users tend to give higher ratings, with a significant concentration at 4.0.\n",
    "\n",
    "##### Number of Unique Users and Movies\n",
    "- Number of Unique Users: 610\n",
    "- Number of Unique Movies: 9,724\n",
    "\n",
    "##### Genre Distribution\n",
    "- The most common genres are Drama and Comedy, indicating diverse user preferences.\n"
   ]
  },
  {
   "cell_type": "markdown",
   "metadata": {},
   "source": [
    "---\n",
    "### Model Development: Building the Recommendation System"
   ]
  },
  {
   "cell_type": "markdown",
   "metadata": {},
   "source": [
    "#### Step 1. Creating a TF-IDF(Term Frequency- Inverse Term Frequency.)\n",
    "\n",
    "The use of TF-IDF is central to transforming raw text data (movie titles) into a structured, numerical format that can be effectively utilized in recommendation algorithms to enhance the accuracy and relevance of movie suggestions.\n",
    "\n",
    "##### Understanding TF-IDF\n",
    "- **Term Frequency (TF):** Measures how frequently a term occurs in a document. In this context, a document could be the title or description of a movie.\n",
    "- **Inverse Document Frequency (IDF):** Measures the importance of the term across a set of documents (in this case, all movie titles or descriptions). Words that occur frequently in many documents will have a lower IDF score as they are less useful for differentiating between documents.\n",
    "\n",
    "##### Purpose of TF-IDF in Recommendation Systems\n",
    "- **Feature Extraction:** TF-IDF transforms text into a meaningful numerical representation, which is essential for machine learning models that require numerical input.\n",
    "- **Relevance Scoring:** It helps in determining the relevance of a word in the context of a movie title. Words that are unique to certain movie titles get higher scores, aiding in distinguishing different movies.\n",
    "- **Dimensionality Reduction:** By focusing on relevant terms (both single words and bigrams), it reduces the complexity of the text data.\n",
    "\n",
    "##### Steps Involved\n",
    "1.1. **Initializing TfidfVectorizer:**\n",
    "   - `TfidfVectorizer(ngram_range=(1, 2))`: This initializes the vectorizer to consider both unigrams (single words) and bigrams (pairs of consecutive words). Unigrams could capture individual keywords, while bigrams preserve some context (e.g., \"star\" vs. \"star wars\").\n",
    "\n",
    "1.2. **Transforming Movie Titles:**\n",
    "   - `fit_transform(movies[\"clean_title\"])`: This step involves two processes:\n",
    "     - **Fitting:** Learning the vocabulary of the movie titles. This creates an internal mapping of terms to feature indices.\n",
    "     - **Transforming:** Converting the titles into a numerical format (TF-IDF matrix). Each title is represented as a vector where each dimension corresponds to the TF-IDF score of a term in the vocabulary."
   ]
  },
  {
   "cell_type": "code",
   "execution_count": 15,
   "metadata": {},
   "outputs": [],
   "source": [
    "# Initialize the TfidfVectorizer\n",
    "# 'ngram_range=(1, 2)' configures the vectorizer to consider both single words (unigrams) and pairs of consecutive words (bigrams)\n",
    "vectorizer = TfidfVectorizer(ngram_range=(1, 2))\n",
    "\n",
    "# Transform the 'clean_title' column of the 'movies' DataFrame into a TF-IDF matrix\n",
    "# This process involves two main steps: 'fitting' and 'transforming'\n",
    "# 'fitting' refers to learning the vocabulary of the 'clean_title' column\n",
    "# 'transforming' converts the titles into a numerical format based on their TF-IDF values\n",
    "tfidf = vectorizer.fit_transform(movies[\"clean_title\"])"
   ]
  },
  {
   "cell_type": "markdown",
   "metadata": {},
   "source": [
    " #### Step 2. Creating a search function: content-based recommendation system\n",
    " \n",
    " The `search` function in the provided code exemplifies a content-based recommendation system for movies in natural language processing. It takes a movie title as input, preprocesses it using a `clean_title` function, and then converts it into a TF-IDF vector using a pre-fitted `TfidfVectorizer` instance. The function computes the cosine similarity between this vector and a dataset's TF-IDF matrix, identifies the top five most similar movies based on this similarity, and returns these movies in descending order of similarity. This process enables the identification and recommendation of movies that are most similar in content to the user's input."
   ]
  },
  {
   "cell_type": "code",
   "execution_count": 16,
   "metadata": {},
   "outputs": [],
   "source": [
    "# Define the search function\n",
    "def search(title):\n",
    "    # Step 1: Clean the input title\n",
    "    # Assuming there is a predefined function 'clean_title' that preprocesses the title\n",
    "    title = clean_title(title)\n",
    "\n",
    "    # Step 2: Transform the cleaned title into a TF-IDF vector\n",
    "    # 'vectorizer' is assumed to be a pre-fitted TfidfVectorizer instance\n",
    "    query_vec = vectorizer.transform([title])\n",
    "\n",
    "    # Step 3: Compute the cosine similarity between the query vector and the TF-IDF matrix\n",
    "    # 'tfidf' is assumed to be the TF-IDF matrix of the dataset\n",
    "    similarity = cosine_similarity(query_vec, tfidf).flatten()\n",
    "\n",
    "    # Step 4: Find indices of the top 5 most similar titles\n",
    "    # '-5' indicates that we want the indices of the 5 largest values\n",
    "    indices = np.argpartition(similarity, -5)[-5:]\n",
    "\n",
    "    # Step 5: Retrieve and order the top 5 similar titles\n",
    "    # 'movies' is assumed to be a DataFrame containing movie data\n",
    "    # '.iloc[::-1]' reverses the order to start with the most similar title\n",
    "    results = movies.iloc[indices].iloc[::-1]\n",
    "    \n",
    "    # Return the search results\n",
    "    return results"
   ]
  },
  {
   "cell_type": "markdown",
   "metadata": {},
   "source": [
    "#### Step 3. Building an interactive search \n",
    "We build interactive movie search tool within a Jupyter Notebook. It utilizes `ipywidgets` to create a text input widget (`movie_input`) for users to enter movie titles. Additionally, an output widget (`movie_list`) is established to display the results of the search. The core functionality is driven by the `on_type` function, which is triggered whenever the value in the movie title input widget changes. This function clears any previous output, retrieves the new title entered by the user, and, if the title is longer than five characters, it executes a `search` function to find and display relevant movie titles."
   ]
  },
  {
   "cell_type": "code",
   "execution_count": 17,
   "metadata": {},
   "outputs": [
    {
     "data": {
      "application/vnd.jupyter.widget-view+json": {
       "model_id": "5ece726bcb7640e0be9a4e9a5a27659c",
       "version_major": 2,
       "version_minor": 0
      },
      "text/plain": [
       "Text(value='Toy Story', description='Movie Title:')"
      ]
     },
     "metadata": {},
     "output_type": "display_data"
    },
    {
     "data": {
      "application/vnd.jupyter.widget-view+json": {
       "model_id": "8889949786e04cefb09d4e464c422736",
       "version_major": 2,
       "version_minor": 0
      },
      "text/plain": [
       "Output()"
      ]
     },
     "metadata": {},
     "output_type": "display_data"
    }
   ],
   "source": [
    "# Create a text input widget for movie titles\n",
    "movie_input = widgets.Text(\n",
    "    value='Toy Story',  # Default text to display in the input box\n",
    "    description='Movie Title:',  # Label for the input box\n",
    "    disabled=False  # Allow the user to modify the text\n",
    ")\n",
    "\n",
    "# Create an output widget to display the search results\n",
    "movie_list = widgets.Output()\n",
    "\n",
    "# Define a function to be called when the user types in the movie_input widget\n",
    "def on_type(data):\n",
    "    with movie_list:  # Context manager for the output widget\n",
    "        movie_list.clear_output()  # Clear previous output\n",
    "        title = data[\"new\"]  # Extract the new title from the event data\n",
    "        if len(title) > 5:  # Check if the title length is more than 5 characters\n",
    "            display(search(title))  # Call the 'search' function and display its results\n",
    "\n",
    "# Attach the on_type function to the movie_input widget\n",
    "# The function is triggered every time the value of movie_input changes\n",
    "movie_input.observe(on_type, names='value')\n",
    "\n",
    "# Display the movie_input and movie_list widgets\n",
    "display(movie_input, movie_list)\n"
   ]
  },
  {
   "cell_type": "markdown",
   "metadata": {},
   "source": [
    "#### Step 4: Finding Users Who Liked the Same Movie\n",
    "We will identify users who liked the same movie based on their ratings.\n",
    "Identify users who rated a specified movie highly (rating > 4) to find users with similar tastes."
   ]
  },
  {
   "cell_type": "code",
   "execution_count": 18,
   "metadata": {},
   "outputs": [
    {
     "data": {
      "text/plain": [
       "array([ 52,  68, 154, 184, 210, 211, 249, 291, 308, 344, 377, 380, 382,\n",
       "       393, 489, 509, 511, 522, 525, 550, 561, 573, 582, 586, 601, 610],\n",
       "      dtype=int64)"
      ]
     },
     "execution_count": 18,
     "metadata": {},
     "output_type": "execute_result"
    }
   ],
   "source": [
    "# Finding users who liked the same movie\n",
    "\n",
    "movie_id = 89745  #Replace with any movie ID\n",
    "\n",
    "#def find_similar_movies(movie_id):\n",
    "movie = movies[movies[\"movieId\"] == movie_id]\n",
    "\n",
    "# Find users who have rated the specified movie with a rating greater than 4\n",
    "# This identifies users with similar tastes (those who liked the same movie)\n",
    "similar_users = ratings[(ratings[\"movieId\"] == movie_id) & (ratings[\"rating\"] > 4)][\"userId\"].unique()\n",
    "similar_users"
   ]
  },
  {
   "cell_type": "markdown",
   "metadata": {},
   "source": [
    "#### Step 5: Finding Movies Highly Rated by Similar Users\n",
    "We will find movies that are highly rated by users who have similar tastes ie(rating > 4)"
   ]
  },
  {
   "cell_type": "code",
   "execution_count": 19,
   "metadata": {
    "scrolled": true
   },
   "outputs": [
    {
     "name": "stdout",
     "output_type": "stream",
     "text": [
      "7784         318\n",
      "7785         356\n",
      "7786         364\n",
      "7787         588\n",
      "7788         733\n",
      "           ...  \n",
      "100821    160527\n",
      "100829    164179\n",
      "100832    168248\n",
      "100833    168250\n",
      "100834    168252\n",
      "Name: movieId, Length: 2253, dtype: int64\n"
     ]
    }
   ],
   "source": [
    "# Find recommendations based on similar users' preferences\n",
    "# This line selects movies that were rated higher than 4 by the similar users\n",
    "# The result is a list of movie IDs that these similar users have enjoyed\n",
    "similar_user_recs = ratings[(ratings[\"userId\"].isin(similar_users)) & (ratings[\"rating\"] > 4)][\"movieId\"]\n",
    "\n",
    "# Displaying the DataFrame with a header\n",
    "print(similar_user_recs)"
   ]
  },
  {
   "cell_type": "markdown",
   "metadata": {},
   "source": [
    "#### Step 6: Calculate Proportion of Similar Users Who Liked Each Movie\n",
    "We will calculate the proportion of similar users who liked each movie.\n",
    "\n",
    "   - `similar_user_recs.value_counts()`: This counts how many times each movie ID appears in the `similar_user_recs` list, effectively counting how many similar users liked each movie.\n",
    "   - `... / len(similar_users)`: This divides the count by the total number of similar users, converting the count into a proportion. This proportion represents the percentage of similar users who liked each movie."
   ]
  },
  {
   "cell_type": "code",
   "execution_count": 20,
   "metadata": {},
   "outputs": [],
   "source": [
    "similar_user_recs = similar_user_recs.value_counts() / len(similar_users)"
   ]
  },
  {
   "cell_type": "markdown",
   "metadata": {},
   "source": [
    "#### Step 7: Filter Movies by Popularity Threshold\n",
    "We will filter movies based on a popularity threshold (10% or higher).\n",
    "\n",
    "   - `similar_user_recs[similar_user_recs > .10]`: This filters the movies to keep only those that more than 10% of the similar users liked.\n",
    "\n",
    "This is an effective way to prioritize recommendations based on the popularity of movies among users with similar tastes."
   ]
  },
  {
   "cell_type": "code",
   "execution_count": 21,
   "metadata": {},
   "outputs": [
    {
     "data": {
      "text/plain": [
       "89745     1.000000\n",
       "2571      0.615385\n",
       "79132     0.615385\n",
       "112852    0.576923\n",
       "58559     0.576923\n",
       "            ...   \n",
       "79091     0.115385\n",
       "2115      0.115385\n",
       "1617      0.115385\n",
       "5903      0.115385\n",
       "3753      0.115385\n",
       "Name: movieId, Length: 241, dtype: float64"
      ]
     },
     "execution_count": 21,
     "metadata": {},
     "output_type": "execute_result"
    }
   ],
   "source": [
    "similar_user_recs = similar_user_recs[similar_user_recs > .10]\n",
    "\n",
    "similar_user_recs"
   ]
  },
  {
   "cell_type": "markdown",
   "metadata": {},
   "source": [
    "#### Step 8: Finding How Much All Users Like Movies Popular Among Similar Users\n",
    "We will analyze how all users like movies that are popular among the group of similar users."
   ]
  },
  {
   "cell_type": "code",
   "execution_count": 22,
   "metadata": {
    "scrolled": true
   },
   "outputs": [
    {
     "data": {
      "text/html": [
       "<div>\n",
       "<style scoped>\n",
       "    .dataframe tbody tr th:only-of-type {\n",
       "        vertical-align: middle;\n",
       "    }\n",
       "\n",
       "    .dataframe tbody tr th {\n",
       "        vertical-align: top;\n",
       "    }\n",
       "\n",
       "    .dataframe thead th {\n",
       "        text-align: right;\n",
       "    }\n",
       "</style>\n",
       "<table border=\"1\" class=\"dataframe\">\n",
       "  <thead>\n",
       "    <tr style=\"text-align: right;\">\n",
       "      <th></th>\n",
       "      <th>userId</th>\n",
       "      <th>movieId</th>\n",
       "      <th>rating</th>\n",
       "      <th>timestamp</th>\n",
       "    </tr>\n",
       "  </thead>\n",
       "  <tbody>\n",
       "    <tr>\n",
       "      <th>3</th>\n",
       "      <td>1</td>\n",
       "      <td>47</td>\n",
       "      <td>5.0</td>\n",
       "      <td>2000-07-30 19:03:35</td>\n",
       "    </tr>\n",
       "    <tr>\n",
       "      <th>4</th>\n",
       "      <td>1</td>\n",
       "      <td>50</td>\n",
       "      <td>5.0</td>\n",
       "      <td>2000-07-30 18:48:51</td>\n",
       "    </tr>\n",
       "    <tr>\n",
       "      <th>10</th>\n",
       "      <td>1</td>\n",
       "      <td>163</td>\n",
       "      <td>5.0</td>\n",
       "      <td>2000-07-30 19:00:50</td>\n",
       "    </tr>\n",
       "    <tr>\n",
       "      <th>15</th>\n",
       "      <td>1</td>\n",
       "      <td>260</td>\n",
       "      <td>5.0</td>\n",
       "      <td>2000-07-30 18:28:00</td>\n",
       "    </tr>\n",
       "    <tr>\n",
       "      <th>25</th>\n",
       "      <td>1</td>\n",
       "      <td>457</td>\n",
       "      <td>5.0</td>\n",
       "      <td>2000-07-30 18:31:49</td>\n",
       "    </tr>\n",
       "    <tr>\n",
       "      <th>...</th>\n",
       "      <td>...</td>\n",
       "      <td>...</td>\n",
       "      <td>...</td>\n",
       "      <td>...</td>\n",
       "    </tr>\n",
       "    <tr>\n",
       "      <th>100743</th>\n",
       "      <td>610</td>\n",
       "      <td>122920</td>\n",
       "      <td>5.0</td>\n",
       "      <td>2017-05-03 21:07:06</td>\n",
       "    </tr>\n",
       "    <tr>\n",
       "      <th>100780</th>\n",
       "      <td>610</td>\n",
       "      <td>139385</td>\n",
       "      <td>4.5</td>\n",
       "      <td>2017-05-03 21:26:17</td>\n",
       "    </tr>\n",
       "    <tr>\n",
       "      <th>100814</th>\n",
       "      <td>610</td>\n",
       "      <td>158238</td>\n",
       "      <td>5.0</td>\n",
       "      <td>2016-11-19 08:46:59</td>\n",
       "    </tr>\n",
       "    <tr>\n",
       "      <th>100829</th>\n",
       "      <td>610</td>\n",
       "      <td>164179</td>\n",
       "      <td>5.0</td>\n",
       "      <td>2017-05-03 21:07:11</td>\n",
       "    </tr>\n",
       "    <tr>\n",
       "      <th>100834</th>\n",
       "      <td>610</td>\n",
       "      <td>168252</td>\n",
       "      <td>5.0</td>\n",
       "      <td>2017-05-03 21:19:12</td>\n",
       "    </tr>\n",
       "  </tbody>\n",
       "</table>\n",
       "<p>8185 rows × 4 columns</p>\n",
       "</div>"
      ],
      "text/plain": [
       "        userId  movieId  rating           timestamp\n",
       "3            1       47     5.0 2000-07-30 19:03:35\n",
       "4            1       50     5.0 2000-07-30 18:48:51\n",
       "10           1      163     5.0 2000-07-30 19:00:50\n",
       "15           1      260     5.0 2000-07-30 18:28:00\n",
       "25           1      457     5.0 2000-07-30 18:31:49\n",
       "...        ...      ...     ...                 ...\n",
       "100743     610   122920     5.0 2017-05-03 21:07:06\n",
       "100780     610   139385     4.5 2017-05-03 21:26:17\n",
       "100814     610   158238     5.0 2016-11-19 08:46:59\n",
       "100829     610   164179     5.0 2017-05-03 21:07:11\n",
       "100834     610   168252     5.0 2017-05-03 21:19:12\n",
       "\n",
       "[8185 rows x 4 columns]"
      ]
     },
     "execution_count": 22,
     "metadata": {},
     "output_type": "execute_result"
    }
   ],
   "source": [
    "# Filtering the 'ratings' DataFrame for movies that are in the list of popular movies among similar users\n",
    "# 'similar_user_recs.index' contains the IDs of movies liked by more than 10% of similar users\n",
    "# The condition 'ratings[\"movieId\"].isin(similar_user_recs.index)' checks each 'movieId' in 'ratings' \n",
    "# against this list of popular movie IDs\n",
    "all_users = ratings[(ratings[\"movieId\"].isin(similar_user_recs.index)) & (ratings[\"rating\"] > 4)]\n",
    "                    # The second condition 'ratings[\"rating\"] > 4' filters for movies that are highly rated (greater than 4)\n",
    "                    # This indicates that the users generally liked these movies\n",
    "                    \n",
    "# The resulting 'all_users' DataFrame contains information about how all users rated \n",
    "# the movies that are popular among the group of similar users\n",
    "# This helps in assessing if these movies have a broader appeal beyond just the similar users\n",
    "\n",
    "all_users"
   ]
  },
  {
   "cell_type": "markdown",
   "metadata": {},
   "source": [
    "#### Step 9: Calculate the Number of Times Each Movie Was Recommended to Users\n",
    "We will calculate the number of times each movie was recommended to users, normalized by the total number of unique users who received recommendations."
   ]
  },
  {
   "cell_type": "code",
   "execution_count": 23,
   "metadata": {
    "scrolled": true
   },
   "outputs": [
    {
     "data": {
      "text/plain": [
       "318       0.353765\n",
       "296       0.292469\n",
       "356       0.271454\n",
       "2571      0.262697\n",
       "2959      0.227671\n",
       "            ...   \n",
       "86377     0.007005\n",
       "158238    0.007005\n",
       "88744     0.007005\n",
       "93721     0.005254\n",
       "112623    0.005254\n",
       "Name: movieId, Length: 241, dtype: float64"
      ]
     },
     "execution_count": 23,
     "metadata": {},
     "output_type": "execute_result"
    }
   ],
   "source": [
    "# Calculate the number of times each movie was recommended to users, \n",
    "# normalized by the total number of unique users who received recommendations.\n",
    "all_user_recs = all_users[\"movieId\"].value_counts() / len(all_users[\"userId\"].unique())\n",
    "\n",
    "# Display the calculated recommendations for each movie.\n",
    "all_user_recs"
   ]
  },
  {
   "cell_type": "markdown",
   "metadata": {},
   "source": [
    "\n",
    "#### Step 10: Creating a Recommendation Score\n",
    "We will create a recommendation score by combining the recommendation percentages from similar users and all users."
   ]
  },
  {
   "cell_type": "code",
   "execution_count": 24,
   "metadata": {
    "scrolled": true
   },
   "outputs": [
    {
     "data": {
      "text/html": [
       "<div>\n",
       "<style scoped>\n",
       "    .dataframe tbody tr th:only-of-type {\n",
       "        vertical-align: middle;\n",
       "    }\n",
       "\n",
       "    .dataframe tbody tr th {\n",
       "        vertical-align: top;\n",
       "    }\n",
       "\n",
       "    .dataframe thead th {\n",
       "        text-align: right;\n",
       "    }\n",
       "</style>\n",
       "<table border=\"1\" class=\"dataframe\">\n",
       "  <thead>\n",
       "    <tr style=\"text-align: right;\">\n",
       "      <th></th>\n",
       "      <th>similar</th>\n",
       "      <th>all</th>\n",
       "    </tr>\n",
       "  </thead>\n",
       "  <tbody>\n",
       "    <tr>\n",
       "      <th>1</th>\n",
       "      <td>0.153846</td>\n",
       "      <td>0.113835</td>\n",
       "    </tr>\n",
       "    <tr>\n",
       "      <th>6</th>\n",
       "      <td>0.115385</td>\n",
       "      <td>0.056042</td>\n",
       "    </tr>\n",
       "    <tr>\n",
       "      <th>10</th>\n",
       "      <td>0.153846</td>\n",
       "      <td>0.035026</td>\n",
       "    </tr>\n",
       "    <tr>\n",
       "      <th>32</th>\n",
       "      <td>0.153846</td>\n",
       "      <td>0.099825</td>\n",
       "    </tr>\n",
       "    <tr>\n",
       "      <th>47</th>\n",
       "      <td>0.192308</td>\n",
       "      <td>0.141856</td>\n",
       "    </tr>\n",
       "    <tr>\n",
       "      <th>...</th>\n",
       "      <td>...</td>\n",
       "      <td>...</td>\n",
       "    </tr>\n",
       "    <tr>\n",
       "      <th>158238</th>\n",
       "      <td>0.115385</td>\n",
       "      <td>0.007005</td>\n",
       "    </tr>\n",
       "    <tr>\n",
       "      <th>164179</th>\n",
       "      <td>0.153846</td>\n",
       "      <td>0.014011</td>\n",
       "    </tr>\n",
       "    <tr>\n",
       "      <th>166528</th>\n",
       "      <td>0.230769</td>\n",
       "      <td>0.019264</td>\n",
       "    </tr>\n",
       "    <tr>\n",
       "      <th>168252</th>\n",
       "      <td>0.153846</td>\n",
       "      <td>0.022767</td>\n",
       "    </tr>\n",
       "    <tr>\n",
       "      <th>179819</th>\n",
       "      <td>0.115385</td>\n",
       "      <td>0.007005</td>\n",
       "    </tr>\n",
       "  </tbody>\n",
       "</table>\n",
       "<p>241 rows × 2 columns</p>\n",
       "</div>"
      ],
      "text/plain": [
       "         similar       all\n",
       "1       0.153846  0.113835\n",
       "6       0.115385  0.056042\n",
       "10      0.153846  0.035026\n",
       "32      0.153846  0.099825\n",
       "47      0.192308  0.141856\n",
       "...          ...       ...\n",
       "158238  0.115385  0.007005\n",
       "164179  0.153846  0.014011\n",
       "166528  0.230769  0.019264\n",
       "168252  0.153846  0.022767\n",
       "179819  0.115385  0.007005\n",
       "\n",
       "[241 rows x 2 columns]"
      ]
     },
     "execution_count": 24,
     "metadata": {},
     "output_type": "execute_result"
    }
   ],
   "source": [
    "# Creating a recommendation score by combining the recommendation percentages from similar users and all users.\n",
    "rec_percentages = pd.concat([similar_user_recs, all_user_recs], axis=1)\n",
    "\n",
    "# Assigning column names to the resulting DataFrame.\n",
    "rec_percentages.columns = [\"similar\", \"all\"]\n",
    "\n",
    "# Displaying the recommendation scores for each movie, comparing recommendations from similar users and all users.\n",
    "rec_percentages\n"
   ]
  },
  {
   "cell_type": "markdown",
   "metadata": {},
   "source": [
    "#### Step 11: Calculate a Recommendation Score\n",
    "A recommendation score will be calculated by dividing the recommendations from similar users by recommendations from all users."
   ]
  },
  {
   "cell_type": "code",
   "execution_count": 25,
   "metadata": {
    "scrolled": true
   },
   "outputs": [
    {
     "data": {
      "text/html": [
       "<div>\n",
       "<style scoped>\n",
       "    .dataframe tbody tr th:only-of-type {\n",
       "        vertical-align: middle;\n",
       "    }\n",
       "\n",
       "    .dataframe tbody tr th {\n",
       "        vertical-align: top;\n",
       "    }\n",
       "\n",
       "    .dataframe thead th {\n",
       "        text-align: right;\n",
       "    }\n",
       "</style>\n",
       "<table border=\"1\" class=\"dataframe\">\n",
       "  <thead>\n",
       "    <tr style=\"text-align: right;\">\n",
       "      <th></th>\n",
       "      <th>similar</th>\n",
       "      <th>all</th>\n",
       "      <th>score</th>\n",
       "      <th>movieId</th>\n",
       "      <th>title</th>\n",
       "      <th>genres</th>\n",
       "      <th>clean_title</th>\n",
       "    </tr>\n",
       "  </thead>\n",
       "  <tbody>\n",
       "    <tr>\n",
       "      <th>8469</th>\n",
       "      <td>0.115385</td>\n",
       "      <td>0.005254</td>\n",
       "      <td>21.961538</td>\n",
       "      <td>112623</td>\n",
       "      <td>Dawn of the Planet of the Apes (2014)</td>\n",
       "      <td>[Sci-Fi]</td>\n",
       "      <td>Dawn of the Planet of the Apes 2014</td>\n",
       "    </tr>\n",
       "    <tr>\n",
       "      <th>8696</th>\n",
       "      <td>0.192308</td>\n",
       "      <td>0.008757</td>\n",
       "      <td>21.961538</td>\n",
       "      <td>122920</td>\n",
       "      <td>Captain America: Civil War (2016)</td>\n",
       "      <td>[Action, Sci-Fi, Thriller]</td>\n",
       "      <td>Captain America Civil War 2016</td>\n",
       "    </tr>\n",
       "    <tr>\n",
       "      <th>7850</th>\n",
       "      <td>0.115385</td>\n",
       "      <td>0.005254</td>\n",
       "      <td>21.961538</td>\n",
       "      <td>93721</td>\n",
       "      <td>Jiro Dreams of Sushi (2011)</td>\n",
       "      <td>[Documentary]</td>\n",
       "      <td>Jiro Dreams of Sushi 2011</td>\n",
       "    </tr>\n",
       "    <tr>\n",
       "      <th>8301</th>\n",
       "      <td>0.192308</td>\n",
       "      <td>0.008757</td>\n",
       "      <td>21.961538</td>\n",
       "      <td>106642</td>\n",
       "      <td>Day of the Doctor, The (2013)</td>\n",
       "      <td>[Adventure, Drama, Sci-Fi]</td>\n",
       "      <td>Day of the Doctor The 2013</td>\n",
       "    </tr>\n",
       "    <tr>\n",
       "      <th>7693</th>\n",
       "      <td>1.000000</td>\n",
       "      <td>0.045534</td>\n",
       "      <td>21.961538</td>\n",
       "      <td>89745</td>\n",
       "      <td>Avengers, The (2012)</td>\n",
       "      <td>[Action, Adventure, Sci-Fi, IMAX]</td>\n",
       "      <td>Avengers The 2012</td>\n",
       "    </tr>\n",
       "    <tr>\n",
       "      <th>8151</th>\n",
       "      <td>0.230769</td>\n",
       "      <td>0.012259</td>\n",
       "      <td>18.824176</td>\n",
       "      <td>102125</td>\n",
       "      <td>Iron Man 3 (2013)</td>\n",
       "      <td>[Action, Sci-Fi, Thriller, IMAX]</td>\n",
       "      <td>Iron Man 3 2013</td>\n",
       "    </tr>\n",
       "    <tr>\n",
       "      <th>8451</th>\n",
       "      <td>0.192308</td>\n",
       "      <td>0.010508</td>\n",
       "      <td>18.301282</td>\n",
       "      <td>112175</td>\n",
       "      <td>How to Train Your Dragon 2 (2014)</td>\n",
       "      <td>[Action, Adventure, Animation]</td>\n",
       "      <td>How to Train Your Dragon 2 2014</td>\n",
       "    </tr>\n",
       "    <tr>\n",
       "      <th>8689</th>\n",
       "      <td>0.192308</td>\n",
       "      <td>0.010508</td>\n",
       "      <td>18.301282</td>\n",
       "      <td>122900</td>\n",
       "      <td>Ant-Man (2015)</td>\n",
       "      <td>[Action, Adventure, Sci-Fi]</td>\n",
       "      <td>AntMan 2015</td>\n",
       "    </tr>\n",
       "    <tr>\n",
       "      <th>8395</th>\n",
       "      <td>0.307692</td>\n",
       "      <td>0.017513</td>\n",
       "      <td>17.569231</td>\n",
       "      <td>110102</td>\n",
       "      <td>Captain America: The Winter Soldier (2014)</td>\n",
       "      <td>[Action, Adventure, Sci-Fi, IMAX]</td>\n",
       "      <td>Captain America The Winter Soldier 2014</td>\n",
       "    </tr>\n",
       "    <tr>\n",
       "      <th>8686</th>\n",
       "      <td>0.153846</td>\n",
       "      <td>0.008757</td>\n",
       "      <td>17.569231</td>\n",
       "      <td>122892</td>\n",
       "      <td>Avengers: Age of Ultron (2015)</td>\n",
       "      <td>[Action, Adventure, Sci-Fi]</td>\n",
       "      <td>Avengers Age of Ultron 2015</td>\n",
       "    </tr>\n",
       "  </tbody>\n",
       "</table>\n",
       "</div>"
      ],
      "text/plain": [
       "       similar       all      score  movieId  \\\n",
       "8469  0.115385  0.005254  21.961538   112623   \n",
       "8696  0.192308  0.008757  21.961538   122920   \n",
       "7850  0.115385  0.005254  21.961538    93721   \n",
       "8301  0.192308  0.008757  21.961538   106642   \n",
       "7693  1.000000  0.045534  21.961538    89745   \n",
       "8151  0.230769  0.012259  18.824176   102125   \n",
       "8451  0.192308  0.010508  18.301282   112175   \n",
       "8689  0.192308  0.010508  18.301282   122900   \n",
       "8395  0.307692  0.017513  17.569231   110102   \n",
       "8686  0.153846  0.008757  17.569231   122892   \n",
       "\n",
       "                                           title  \\\n",
       "8469       Dawn of the Planet of the Apes (2014)   \n",
       "8696           Captain America: Civil War (2016)   \n",
       "7850                 Jiro Dreams of Sushi (2011)   \n",
       "8301               Day of the Doctor, The (2013)   \n",
       "7693                        Avengers, The (2012)   \n",
       "8151                           Iron Man 3 (2013)   \n",
       "8451           How to Train Your Dragon 2 (2014)   \n",
       "8689                              Ant-Man (2015)   \n",
       "8395  Captain America: The Winter Soldier (2014)   \n",
       "8686              Avengers: Age of Ultron (2015)   \n",
       "\n",
       "                                 genres  \\\n",
       "8469                           [Sci-Fi]   \n",
       "8696         [Action, Sci-Fi, Thriller]   \n",
       "7850                      [Documentary]   \n",
       "8301         [Adventure, Drama, Sci-Fi]   \n",
       "7693  [Action, Adventure, Sci-Fi, IMAX]   \n",
       "8151   [Action, Sci-Fi, Thriller, IMAX]   \n",
       "8451     [Action, Adventure, Animation]   \n",
       "8689        [Action, Adventure, Sci-Fi]   \n",
       "8395  [Action, Adventure, Sci-Fi, IMAX]   \n",
       "8686        [Action, Adventure, Sci-Fi]   \n",
       "\n",
       "                                  clean_title  \n",
       "8469      Dawn of the Planet of the Apes 2014  \n",
       "8696           Captain America Civil War 2016  \n",
       "7850                Jiro Dreams of Sushi 2011  \n",
       "8301               Day of the Doctor The 2013  \n",
       "7693                        Avengers The 2012  \n",
       "8151                          Iron Man 3 2013  \n",
       "8451          How to Train Your Dragon 2 2014  \n",
       "8689                              AntMan 2015  \n",
       "8395  Captain America The Winter Soldier 2014  \n",
       "8686              Avengers Age of Ultron 2015  "
      ]
     },
     "execution_count": 25,
     "metadata": {},
     "output_type": "execute_result"
    }
   ],
   "source": [
    "# Calculate a recommendation score by dividing the recommendations from similar users by recommendations from all users.\n",
    "rec_percentages[\"score\"] = rec_percentages[\"similar\"] / rec_percentages[\"all\"]\n",
    "\n",
    "# Sort the DataFrame by the \"score\" column in descending order.\n",
    "rec_percentages = rec_percentages.sort_values(\"score\", ascending=False)\n",
    "\n",
    "# Display the top 10 movies with the highest recommendation scores, merging with movie details.\n",
    "rec_percentages.head(10).merge(movies, left_index=True, right_on=\"movieId\")\n"
   ]
  },
  {
   "cell_type": "markdown",
   "metadata": {},
   "source": [
    "#### Step 12: Recommendation Function\n",
    "We will define a recommendation function that takes a movie ID as input and returns a DataFrame of recommended movies based on user ratings."
   ]
  },
  {
   "cell_type": "code",
   "execution_count": 26,
   "metadata": {},
   "outputs": [],
   "source": [
    "# This function takes a movie ID as input and returns a DataFrame of recommended movies based on user ratings.\n",
    "# It calculates similarity scores between movies and considers recommendations from similar users.\n",
    "\n",
    "def find_similar_movies(movie_id):\n",
    "    # Find users who rated the input movie highly (rating > 4).\n",
    "    similar_users = ratings[(ratings[\"movieId\"] == movie_id) & (ratings[\"rating\"] > 4)][\"userId\"].unique()\n",
    "    \n",
    "    # Get movie recommendations from similar users who rated the movies highly.\n",
    "    similar_user_recs = ratings[(ratings[\"userId\"].isin(similar_users)) & (ratings[\"rating\"] > 4)][\"movieId\"]\n",
    "    similar_user_recs = similar_user_recs.value_counts() / len(similar_users)\n",
    "\n",
    "    # Filter movies with a recommendation percentage above 10%.\n",
    "    similar_user_recs = similar_user_recs[similar_user_recs > .10]\n",
    "    \n",
    "    # Get recommendations from all users for the filtered movies.\n",
    "    all_users = ratings[(ratings[\"movieId\"].isin(similar_user_recs.index)) & (ratings[\"rating\"] > 4)]\n",
    "    all_user_recs = all_users[\"movieId\"].value_counts() / len(all_users[\"userId\"].unique())\n",
    "    \n",
    "    # Combine and calculate recommendation scores.\n",
    "    rec_percentages = pd.concat([similar_user_recs, all_user_recs], axis=1)\n",
    "    rec_percentages.columns = [\"similar\", \"all\"]\n",
    "    rec_percentages[\"score\"] = rec_percentages[\"similar\"] / rec_percentages[\"all\"]\n",
    "    \n",
    "    # Sort the recommendations by score in descending order.\n",
    "    rec_percentages = rec_percentages.sort_values(\"score\", ascending=False)\n",
    "    \n",
    "    # Return the top 10 recommended movies with their scores, titles, and genres.\n",
    "    return rec_percentages.head(10).merge(movies, left_index=True, right_on=\"movieId\")[[\"score\", \"title\", \"genres\"]]\n"
   ]
  },
  {
   "cell_type": "markdown",
   "metadata": {},
   "source": [
    "### Model Development: Interactive Recommendation Widget\n",
    "To enhance user engagement and provide a user-friendly interface, we will create an interactive recommendation widget. Users can enter a movie title, and the widget will display recommended movies based on their preferences."
   ]
  },
  {
   "cell_type": "code",
   "execution_count": 27,
   "metadata": {},
   "outputs": [
    {
     "data": {
      "application/vnd.jupyter.widget-view+json": {
       "model_id": "72061eff9c2c4867b13933430a9ea6a4",
       "version_major": 2,
       "version_minor": 0
      },
      "text/plain": [
       "Text(value='Toy Story', description='Movie Title:')"
      ]
     },
     "metadata": {},
     "output_type": "display_data"
    },
    {
     "data": {
      "application/vnd.jupyter.widget-view+json": {
       "model_id": "b802430245d547f3a7e91c2eac287035",
       "version_major": 2,
       "version_minor": 0
      },
      "text/plain": [
       "Output()"
      ]
     },
     "metadata": {},
     "output_type": "display_data"
    }
   ],
   "source": [
    "# Create a text input widget for entering the movie title.\n",
    "movie_name_input = widgets.Text(\n",
    "    value='Toy Story',\n",
    "    description='Movie Title:',\n",
    "    disabled=False\n",
    ")\n",
    "\n",
    "# Create an output widget for displaying movie recommendations.\n",
    "recommendation_list = widgets.Output()\n",
    "\n",
    "# Define a function to trigger recommendations when text is typed.\n",
    "def on_type(data):\n",
    "    with recommendation_list:\n",
    "        recommendation_list.clear_output()\n",
    "        title = data[\"new\"]\n",
    "        # Check if the entered movie title is sufficiently long.\n",
    "        if len(title) > 5:\n",
    "            # Search for movie titles that match the entered text.\n",
    "            results = search(title)\n",
    "            # Get the movie ID of the first matching result.\n",
    "            movie_id = results.iloc[0][\"movieId\"]\n",
    "            # Display recommended movies based on the entered movie.\n",
    "            display(find_similar_movies(movie_id))\n",
    "\n",
    "# Observe changes in the text input and trigger recommendations.\n",
    "movie_name_input.observe(on_type, names='value')\n",
    "\n",
    "# Display the movie title input and the recommendation list.\n",
    "display(movie_name_input, recommendation_list)\n"
   ]
  },
  {
   "cell_type": "markdown",
   "metadata": {},
   "source": [
    "---\n",
    "### Model Evaluation & Refinement: Overall Assessment\n",
    "\n",
    "This output gives a good mix of direct sequels, genre-matched movies, and broadly appealing films, which is typical for a movie recommendation system based on similarity and genre matching.\n",
    "\n",
    "#### Future Scope\n",
    "- Integration with real-time data for current trends.\n",
    "- Incorporation of more user data for detailed recommendations.\n",
    "- Deployment on web/mobile platforms for increased accessibility."
   ]
  },
  {
   "cell_type": "markdown",
   "metadata": {},
   "source": [
    "---\n",
    "### Conclusion\n",
    "\n",
    "In this project, we have successfully developed a movie recommendation system with the following objectives:\n",
    "\n",
    "1. **Precision in Recommendations:** We aimed to create an algorithm capable of accurately identifying and suggesting the top five movies based on user ratings. Our recommendation system excels in providing precise movie suggestions that closely align with individual user preferences.\n",
    "\n",
    "2. **Enhancement of User Engagement:** By delivering personalized movie recommendations, our system significantly enhances user engagement. Users are more likely to interact with the platform and spend more time exploring movie options.\n",
    "\n",
    "3. **Generation of Personalized Recommendations:** Our recommendation system generates recommendations that are specifically tailored to align with each user's distinct interests. This ensures that users receive movie suggestions that resonate with their preferences, ultimately improving their overall experience.\n",
    "\n",
    "The inclusion of an interactive recommendation widget further elevates the user experience by allowing users to input movie titles and receive immediate recommendations based on their preferences.\n",
    "\n",
    "Our recommendation system leverages user behavior and movie ratings to provide accurate and personalized movie suggestions. This not only increases user interaction but also aligns with the distinct interests of each user.\n",
    "\n",
    "---"
   ]
  }
 ],
 "metadata": {
  "kernelspec": {
   "display_name": "Python 3",
   "language": "python",
   "name": "python3"
  },
  "language_info": {
   "codemirror_mode": {
    "name": "ipython",
    "version": 3
   },
   "file_extension": ".py",
   "mimetype": "text/x-python",
   "name": "python",
   "nbconvert_exporter": "python",
   "pygments_lexer": "ipython3",
   "version": "3.8.5"
  }
 },
 "nbformat": 4,
 "nbformat_minor": 4
}
